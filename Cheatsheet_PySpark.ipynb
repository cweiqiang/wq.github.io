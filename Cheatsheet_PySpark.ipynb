{
  "nbformat": 4,
  "nbformat_minor": 0,
  "metadata": {
    "colab": {
      "name": "Cheatsheet-PySpark.ipynb",
      "provenance": [],
      "collapsed_sections": [],
      "authorship_tag": "ABX9TyNvMqYgT1fIj09OM1AzwUUZ",
      "include_colab_link": true
    },
    "kernelspec": {
      "name": "python3",
      "display_name": "Python 3"
    },
    "language_info": {
      "name": "python"
    }
  },
  "cells": [
    {
      "cell_type": "markdown",
      "metadata": {
        "id": "view-in-github",
        "colab_type": "text"
      },
      "source": [
        "<a href=\"https://colab.research.google.com/github/cweiqiang/wq.github.io/blob/main/Cheatsheet_PySpark.ipynb\" target=\"_parent\"><img src=\"https://colab.research.google.com/assets/colab-badge.svg\" alt=\"Open In Colab\"/></a>"
      ]
    },
    {
      "cell_type": "markdown",
      "source": [
        "# Apache Spark\n",
        "\n",
        "Pyspark is the Spark Python API that exposes\n",
        "\n",
        "the Spark programming model to Python."
      ],
      "metadata": {
        "id": "cKApeXrv9NzN"
      }
    },
    {
      "cell_type": "markdown",
      "source": [
        "# Section 1: Initializing Spark"
      ],
      "metadata": {
        "id": "VgUmKmon9X1o"
      }
    },
    {
      "cell_type": "markdown",
      "source": [
        "## SparkContext"
      ],
      "metadata": {
        "id": "Pfgj_MHh9beW"
      }
    },
    {
      "cell_type": "code",
      "execution_count": null,
      "metadata": {
        "id": "__JByREZ79Rt"
      },
      "outputs": [],
      "source": [
        "from pyspark import SparkContext\n",
        "\n",
        "sc = SparkContext(master = 'local[2]')"
      ]
    },
    {
      "cell_type": "markdown",
      "source": [
        "## Inspect SparkContext"
      ],
      "metadata": {
        "id": "6n38h4ji9iwj"
      }
    },
    {
      "cell_type": "code",
      "source": [
        "sc.version  #Retrieve SparkContext version\n",
        "\n",
        "sc.pythonVer #Retrieve Python version\n",
        "\n",
        "sc.master #Master URL to connect to\n",
        "\n",
        "str(sc.sparkHome) #Path where Spark is installed on worker nodes\n",
        "\n",
        "str(sc.sparkUser()) #Retrieve name of the Spark User running SparkContext\n",
        "\n",
        "sc.appName #Return application name\n",
        "\n",
        "sc.applicationId #Retrieve application ID\n",
        "\n",
        "sc.defaultParallelism #Return default level of parallelism\n",
        "\n",
        "sc.defaultMinPartitions #Default minimum number of partitions for RDDs"
      ],
      "metadata": {
        "id": "HFxNPTaU9jRa"
      },
      "execution_count": null,
      "outputs": []
    },
    {
      "cell_type": "markdown",
      "source": [
        "## Configuration"
      ],
      "metadata": {
        "id": "zxzyl_Iy9vJ4"
      }
    },
    {
      "cell_type": "code",
      "source": [
        "from pyspark import SparkConf, SparkContext\n",
        "conf = (SparkConf().setMaster(\"local\").setAppName(\"My app\").set(\"spark.executor.memory\", \"1g\"))\n",
        "\n",
        "sc = SparkContext(conf = conf)"
      ],
      "metadata": {
        "id": "R8EcH4Hh9wdA"
      },
      "execution_count": null,
      "outputs": []
    },
    {
      "cell_type": "markdown",
      "source": [
        "## Using The Shell\n",
        "\n",
        "In the PySpark shell, a special interpreter-aware SparkContext is already\n",
        " created in the variable called `sc`."
      ],
      "metadata": {
        "id": "GfXN62gf-AYM"
      }
    },
    {
      "cell_type": "code",
      "source": [
        "! ./bin/spark-shell --master local[2]\n",
        "\n",
        "! ./bin/pyspark --master local[4] --py-files code.py"
      ],
      "metadata": {
        "id": "2pIrepYy-DN5"
      },
      "execution_count": null,
      "outputs": []
    },
    {
      "cell_type": "markdown",
      "source": [
        "Set which master the context connects to with the --master argument, and\n",
        " add Python .zip, .egg or .py files to the runtime path by passing a\n",
        " comma-separated list to --py-files."
      ],
      "metadata": {
        "id": "nr2mubvj-KG0"
      }
    },
    {
      "cell_type": "markdown",
      "source": [
        "# Section 2: Loading Data"
      ],
      "metadata": {
        "id": "spRWaESS-XnH"
      }
    },
    {
      "cell_type": "markdown",
      "source": [
        "## Parallelized Collections"
      ],
      "metadata": {
        "id": "xVK4JtZq-eJk"
      }
    },
    {
      "cell_type": "code",
      "source": [
        "rdd = sc.parallelize([('a',7),('a',2),('b',2)])\n",
        "\n",
        "rdd2 = sc.parallelize([('a',2),('d',1),('b',1)])\n",
        "\n",
        "rdd3 = sc.parallelize(range(100))\n",
        "\n",
        "rdd4 = sc.parallelize([(\"a\",[\"x\",\"y\",\"z\"]),(\"b\",[\"p\", \"r\"])])"
      ],
      "metadata": {
        "id": "T8plRuTX-Us4"
      },
      "execution_count": null,
      "outputs": []
    },
    {
      "cell_type": "markdown",
      "source": [
        "## External Data\n",
        "Read either one text file from HDFS, a local file system or or any\n",
        " Hadoop-supported file system URI with `textFile()`,\n",
        "or read in a directory\n",
        " of text files with `wholeTextFiles()`"
      ],
      "metadata": {
        "id": "kHO-qw4m-oOr"
      }
    },
    {
      "cell_type": "code",
      "source": [
        "textFile = sc.textFile(\"/mydirectory/*.txt\")\n",
        "textFile2 = sc.wholeTextFiles(\"/my/directory/\")"
      ],
      "metadata": {
        "id": "0jf-ZPHH-ovv"
      },
      "execution_count": null,
      "outputs": []
    },
    {
      "cell_type": "markdown",
      "source": [
        "# Section 3: Retrieving RDD Information "
      ],
      "metadata": {
        "id": "Vf_X8xNZ_CmW"
      }
    },
    {
      "cell_type": "markdown",
      "source": [
        "## Basic Information"
      ],
      "metadata": {
        "id": "NIbLBGo4_Fl1"
      }
    },
    {
      "cell_type": "code",
      "source": [
        "rdd.getNumPartitions() # List the number of partitions\n",
        "rdd.count() #Count RDD instances 3\n",
        "rdd.countByKey() #Count RDD instances by key"
      ],
      "metadata": {
        "id": "d0lmu3eT_ECc"
      },
      "execution_count": null,
      "outputs": []
    },
    {
      "cell_type": "markdown",
      "source": [
        "`defaultdict(<type 'int'>,{'a':2,'b':1})`"
      ],
      "metadata": {
        "id": "hO1OPfiu_TkL"
      }
    },
    {
      "cell_type": "code",
      "source": [
        "rdd.countByValue() #Count RDD instances by value"
      ],
      "metadata": {
        "id": "PVNH5L8D_UEI"
      },
      "execution_count": null,
      "outputs": []
    },
    {
      "cell_type": "markdown",
      "source": [
        "\n",
        "defaultdict(<type 'int'>,{('b',2):1,('a',2):1,('a',7):1})\n",
        "\n"
      ],
      "metadata": {
        "id": "ZcNvNjNG_bbG"
      }
    },
    {
      "cell_type": "code",
      "source": [
        "rdd.collectAsMap() #Return (key,value) pairs as a dictionary"
      ],
      "metadata": {
        "id": "Yo-TiMat_byC"
      },
      "execution_count": null,
      "outputs": []
    },
    {
      "cell_type": "markdown",
      "source": [
        "`{'a': 2,'b': 2} `\n"
      ],
      "metadata": {
        "id": "Sh9MRhJ8_etB"
      }
    },
    {
      "cell_type": "code",
      "source": [
        "rdd3.sum() #Sum of RDD elements 4950\n",
        "sc.parallelize([]).isEmpty() #Check whether RDD is empty"
      ],
      "metadata": {
        "id": "y7XGWXQ9_f4T"
      },
      "execution_count": null,
      "outputs": []
    },
    {
      "cell_type": "markdown",
      "source": [
        "`True`"
      ],
      "metadata": {
        "id": "1i16UzlB_mJU"
      }
    },
    {
      "cell_type": "markdown",
      "source": [
        "## Summary"
      ],
      "metadata": {
        "id": "uHLUMrz6_wLO"
      }
    },
    {
      "cell_type": "code",
      "source": [
        "rdd3.max() #Maximum value of RDD elements\n",
        "\n",
        "rdd3.min() #Minimum value of RDD elements\n",
        "\n",
        "rdd3.mean() #Mean value of RDD elements\n",
        "\n",
        "rdd3.stdev() #Standard deviation of RDD elements\n",
        "\n",
        "rdd3.variance() #Compute variance of RDD elements\n",
        "\n",
        "rdd3.histogram(3) #Compute histogram by bins"
      ],
      "metadata": {
        "id": "MfB5jVzX_nQ5"
      },
      "execution_count": null,
      "outputs": []
    },
    {
      "cell_type": "markdown",
      "source": [
        "([0,33,66,99],[33,33,34])"
      ],
      "metadata": {
        "id": "QepIKZ10_9rs"
      }
    },
    {
      "cell_type": "code",
      "source": [
        "rdd3.stats() #Summary statistics (count, mean, stdev, max & min)"
      ],
      "metadata": {
        "id": "QLj6gowx_-Qi"
      },
      "execution_count": null,
      "outputs": []
    },
    {
      "cell_type": "markdown",
      "source": [
        "## Section 4: Applying Functions"
      ],
      "metadata": {
        "id": "Zimlh6HpAHZp"
      }
    },
    {
      "cell_type": "code",
      "source": [
        "# Apply a function to each RDD element\n",
        "rdd.map(lambda x: x+(x[1],x[0])).collect() "
      ],
      "metadata": {
        "id": "RWZfWJvFAJt7"
      },
      "execution_count": null,
      "outputs": []
    },
    {
      "cell_type": "markdown",
      "source": [
        "`[('a',7,7,'a'),('a',2,2,'a'),('b',2,2,'b')]`"
      ],
      "metadata": {
        "id": "c_tfsiMKAZKq"
      }
    },
    {
      "cell_type": "code",
      "source": [
        "#Apply a function to each RDD element and flatten the result\n",
        "\n",
        "rdd5 = rdd.flatMap(lambda x: x+(x[1],x[0])) \n",
        "\n",
        "rdd5.collect()"
      ],
      "metadata": {
        "id": "yBxHaLJ1AYd0"
      },
      "execution_count": null,
      "outputs": []
    },
    {
      "cell_type": "markdown",
      "source": [
        "`['a',7,7,'a','a',2,2,'a','b',2,2,'b']`"
      ],
      "metadata": {
        "id": "jICwwe0hAfU1"
      }
    },
    {
      "cell_type": "code",
      "source": [
        "#Apply a flatMap function to each (key,value) pair of rdd4 without changing the keys\n",
        "rdd4.flatMapValues(lambda x: x).collect() "
      ],
      "metadata": {
        "id": "h-BQjELTAhdL"
      },
      "execution_count": null,
      "outputs": []
    },
    {
      "cell_type": "markdown",
      "source": [
        "`[('a','x'),('a','y'),('a','z'),('b','p'),('b','r')]`"
      ],
      "metadata": {
        "id": "LaWd2DgGAj-X"
      }
    },
    {
      "cell_type": "markdown",
      "source": [
        "# Section 5: Selecting Data"
      ],
      "metadata": {
        "id": "-51C5eNbAnk4"
      }
    },
    {
      "cell_type": "markdown",
      "source": [
        "## Getting"
      ],
      "metadata": {
        "id": "HLOE1gsqAsFY"
      }
    },
    {
      "cell_type": "code",
      "source": [
        "rdd.collect() #Return a list with all RDD elements"
      ],
      "metadata": {
        "id": "t8I6fZ9xAkoP"
      },
      "execution_count": null,
      "outputs": []
    },
    {
      "cell_type": "markdown",
      "source": [
        "[('a', 7), ('a', 2), ('b', 2)]\n",
        "\n"
      ],
      "metadata": {
        "id": "dRUxUzzjAw8B"
      }
    },
    {
      "cell_type": "code",
      "source": [
        "rdd.take(2) #Take first 2 RDD elements"
      ],
      "metadata": {
        "id": "e21YgXFnAyTk"
      },
      "execution_count": null,
      "outputs": []
    },
    {
      "cell_type": "markdown",
      "source": [
        "[('a', 7), ('a', 2)]"
      ],
      "metadata": {
        "id": "ozOie-AGA0RD"
      }
    },
    {
      "cell_type": "code",
      "source": [
        "rdd.first() #Take first RDD element"
      ],
      "metadata": {
        "id": "2pCjVr6fA2Ur"
      },
      "execution_count": null,
      "outputs": []
    },
    {
      "cell_type": "markdown",
      "source": [
        "('a', 7)\n"
      ],
      "metadata": {
        "id": "MCMkDAjeA4dK"
      }
    },
    {
      "cell_type": "code",
      "source": [
        "rdd.top(2) #Take top 2 RDD elements"
      ],
      "metadata": {
        "id": "Num5d6rKA55M"
      },
      "execution_count": null,
      "outputs": []
    },
    {
      "cell_type": "markdown",
      "source": [
        "[('b', 2), ('a', 7)]"
      ],
      "metadata": {
        "id": "PM1N-3F9A71K"
      }
    },
    {
      "cell_type": "markdown",
      "source": [
        "## Sampling"
      ],
      "metadata": {
        "id": "qVu2XdUvBESV"
      }
    },
    {
      "cell_type": "code",
      "source": [
        "rdd3.sample(False, 0.15, 81).collect() #Return sampled subset of rdd3"
      ],
      "metadata": {
        "id": "_4LIpQa8A9QU"
      },
      "execution_count": null,
      "outputs": []
    },
    {
      "cell_type": "markdown",
      "source": [
        "[3,4,27,31,40,41,42,43,60,76,79,80,86,97]"
      ],
      "metadata": {
        "id": "PQPdrIRuBHX6"
      }
    },
    {
      "cell_type": "markdown",
      "source": [
        "## Filtering"
      ],
      "metadata": {
        "id": "FwJj-FF3BL4w"
      }
    },
    {
      "cell_type": "code",
      "source": [
        "rdd.filter(lambda x: \"a\" in x).collect() #Filter the RDD"
      ],
      "metadata": {
        "id": "tkXdkvCXBH3U"
      },
      "execution_count": null,
      "outputs": []
    },
    {
      "cell_type": "markdown",
      "source": [
        "[('a',7),('a',2)]"
      ],
      "metadata": {
        "id": "0jrc21b7BOzV"
      }
    },
    {
      "cell_type": "code",
      "source": [
        "rdd5.distinct().collect() #Return distinct RDD values"
      ],
      "metadata": {
        "id": "kqKCyY0MBROw"
      },
      "execution_count": null,
      "outputs": []
    },
    {
      "cell_type": "markdown",
      "source": [
        "['a',2,'b',7]"
      ],
      "metadata": {
        "id": "ZqOVQJWuBUgI"
      }
    },
    {
      "cell_type": "code",
      "source": [
        "rdd.keys().collect() #Return (key,value) RDD's keys"
      ],
      "metadata": {
        "id": "K5bgaAKWBWcA"
      },
      "execution_count": null,
      "outputs": []
    },
    {
      "cell_type": "markdown",
      "source": [
        "['a', 'a', 'b']"
      ],
      "metadata": {
        "id": "SXcpJlxUBYRe"
      }
    },
    {
      "cell_type": "markdown",
      "source": [
        "## Iterating"
      ],
      "metadata": {
        "id": "vyWAT5VgBa7u"
      }
    },
    {
      "cell_type": "code",
      "source": [
        "def g(x): print(x)\n",
        "\n",
        "rdd.foreach(g) #Apply a function to all RDD elements"
      ],
      "metadata": {
        "id": "ksw09VQiBXXS"
      },
      "execution_count": null,
      "outputs": []
    },
    {
      "cell_type": "markdown",
      "source": [
        "('a', 7)\n",
        "\n",
        "('b', 2)\n",
        "\n",
        "('a', 2)"
      ],
      "metadata": {
        "id": "B37mTvwJBh1v"
      }
    },
    {
      "cell_type": "markdown",
      "source": [
        "# Section 6: Reshaping Data"
      ],
      "metadata": {
        "id": "0TPYKRD6Bpg8"
      }
    },
    {
      "cell_type": "markdown",
      "source": [
        "## Reducing"
      ],
      "metadata": {
        "id": "T92LCiDPB3uM"
      }
    },
    {
      "cell_type": "code",
      "source": [
        "rdd.reduceByKey(lambda x,y : x+y).collect() #Merge the rdd values for each key"
      ],
      "metadata": {
        "id": "lhJUT4cFBlGx"
      },
      "execution_count": null,
      "outputs": []
    },
    {
      "cell_type": "markdown",
      "source": [
        "[('a',9),('b',2)]\n"
      ],
      "metadata": {
        "id": "_DQ9nsyIB8Pq"
      }
    },
    {
      "cell_type": "code",
      "source": [
        "rdd.reduce(lambda a, b: a + b) #Merge the rdd values"
      ],
      "metadata": {
        "id": "fRv-yVqJB99R"
      },
      "execution_count": null,
      "outputs": []
    },
    {
      "cell_type": "markdown",
      "source": [
        "('a',7,'a',2,'b',2)"
      ],
      "metadata": {
        "id": "7TsN0bMhB_Is"
      }
    },
    {
      "cell_type": "markdown",
      "source": [
        "## Grouping by\n"
      ],
      "metadata": {
        "id": "N92NKkWtCC0J"
      }
    },
    {
      "cell_type": "code",
      "source": [
        "dd3.groupBy(lambda x: x % 2).mapValues(list).collect()\n",
        "#Return RDD of grouped values\n",
        "\n",
        "#Group rdd by key\n",
        "rdd.groupByKey().mapValues(list).collect()"
      ],
      "metadata": {
        "id": "mZPcfB5vCE8q"
      },
      "execution_count": null,
      "outputs": []
    },
    {
      "cell_type": "markdown",
      "source": [
        "[('a',[7,2]),('b',[2])]"
      ],
      "metadata": {
        "id": "c7RJTQOhCPCE"
      }
    },
    {
      "cell_type": "markdown",
      "source": [
        "## Aggregating\n"
      ],
      "metadata": {
        "id": "HYGkMdZXCUM5"
      }
    },
    {
      "cell_type": "code",
      "source": [
        "seqOp = (lambda x,y: (x[0]+y,x[1]+1))\n",
        "\n",
        "combOp = (lambda x,y:(x[0]+y[0],x[1]+y[1]))"
      ],
      "metadata": {
        "id": "3Y1PRWs1CQUv"
      },
      "execution_count": null,
      "outputs": []
    },
    {
      "cell_type": "code",
      "source": [
        "#Aggregate RDD elements of each partition and then the results\n",
        "rdd3.aggregate((0,0),seqOp,combOp) "
      ],
      "metadata": {
        "id": "fFgwpCcYCb_o"
      },
      "execution_count": null,
      "outputs": []
    },
    {
      "cell_type": "markdown",
      "source": [
        "\n",
        "(4950,100)"
      ],
      "metadata": {
        "id": "zI1XSSfcCeoM"
      }
    },
    {
      "cell_type": "code",
      "source": [
        "#Aggregate values of each RDD key\n",
        "rdd.aggregateByKey((0,0),seqop,combop).collect()"
      ],
      "metadata": {
        "id": "bxniHXxrChjt"
      },
      "execution_count": null,
      "outputs": []
    },
    {
      "cell_type": "markdown",
      "source": [
        "[('a',(9,2)), ('b',(2,1))]"
      ],
      "metadata": {
        "id": "Md927Zl2Caq9"
      }
    },
    {
      "cell_type": "code",
      "source": [
        "#Aggregate the elements of each partition, and then the results\n",
        "rdd3.fold(0,add) "
      ],
      "metadata": {
        "id": "IaSWPWu8CmAx"
      },
      "execution_count": null,
      "outputs": []
    },
    {
      "cell_type": "markdown",
      "source": [
        "4950"
      ],
      "metadata": {
        "id": "W9BXOTx6Cobn"
      }
    },
    {
      "cell_type": "code",
      "source": [
        "#Merge the values for each key\n",
        "rdd.foldByKey(0, add).collect()"
      ],
      "metadata": {
        "id": "A5K_qz6tCoNh"
      },
      "execution_count": null,
      "outputs": []
    },
    {
      "cell_type": "markdown",
      "source": [
        "[('a',9),('b',2)]"
      ],
      "metadata": {
        "id": "kmt7QT3ICsWb"
      }
    },
    {
      "cell_type": "code",
      "source": [
        "#Create tuples of RDD elements by applying a function\n",
        "rdd3.keyBy(lambda x: x+x).collect()"
      ],
      "metadata": {
        "id": "UXJowYClCuh_"
      },
      "execution_count": null,
      "outputs": []
    },
    {
      "cell_type": "markdown",
      "source": [
        "# Section 7: Mathematical Operations"
      ],
      "metadata": {
        "id": "mIfbtJqnCx0E"
      }
    },
    {
      "cell_type": "code",
      "source": [
        "rdd.subtract(rdd2).collect() #Return each rdd value not contained in rdd2"
      ],
      "metadata": {
        "id": "EPR6PG8oCoKP"
      },
      "execution_count": null,
      "outputs": []
    },
    {
      "cell_type": "markdown",
      "source": [
        "[('b',2),('a',7)]"
      ],
      "metadata": {
        "id": "53S4SuRHC6YB"
      }
    },
    {
      "cell_type": "code",
      "source": [
        "#Return each (key,value) pair of rdd2 with no matching key in rdd\n",
        "rdd2.subtractByKey(rdd).collect() "
      ],
      "metadata": {
        "id": "uP8gPZs9C77C"
      },
      "execution_count": null,
      "outputs": []
    },
    {
      "cell_type": "markdown",
      "source": [
        "\n",
        "[('d', 1)]"
      ],
      "metadata": {
        "id": "jgRC731tDBgP"
      }
    },
    {
      "cell_type": "code",
      "source": [
        "rdd.cartesian(rdd2).collect() #Return the Cartesian product of rdd and rdd2"
      ],
      "metadata": {
        "id": "h2W32wreDC7d"
      },
      "execution_count": null,
      "outputs": []
    },
    {
      "cell_type": "markdown",
      "source": [
        "# Section 8: Sort"
      ],
      "metadata": {
        "id": "QGC_fwfLDGLO"
      }
    },
    {
      "cell_type": "code",
      "source": [
        "rdd2.sortBy(lambda x: x[1]).collect() #Sort RDD by given function "
      ],
      "metadata": {
        "id": "tGJFcHyvDHtA"
      },
      "execution_count": null,
      "outputs": []
    },
    {
      "cell_type": "markdown",
      "source": [
        "\n",
        "[('d',1),('b',1),('a',2)]"
      ],
      "metadata": {
        "id": "xQKzjopQDQHK"
      }
    },
    {
      "cell_type": "code",
      "source": [
        "rdd2.sortByKey().collect() #Sort (key, value) RDD by key "
      ],
      "metadata": {
        "id": "4ixnln0sDRAc"
      },
      "execution_count": null,
      "outputs": []
    },
    {
      "cell_type": "markdown",
      "source": [
        "[('a',2),('b',1),('d',1)]"
      ],
      "metadata": {
        "id": "KEoGfYsyDSKq"
      }
    },
    {
      "cell_type": "markdown",
      "source": [
        "# Section 9: Repartitioning"
      ],
      "metadata": {
        "id": "0NUIo4c3DV7U"
      }
    },
    {
      "cell_type": "code",
      "source": [
        "rdd.repartition(4) #New RDD with 4 partitions\n",
        "rdd.coalesce(1) #Decrease the number of partitions in the RDD to 1"
      ],
      "metadata": {
        "id": "18K5UuW5DTT-"
      },
      "execution_count": null,
      "outputs": []
    },
    {
      "cell_type": "markdown",
      "source": [
        "# Section 10: Saving"
      ],
      "metadata": {
        "id": "qnGjAqbuDcAZ"
      }
    },
    {
      "cell_type": "code",
      "source": [
        "rdd.saveAsTextFile(\"rdd.txt\")\n",
        "\n",
        "rdd.saveAsHadoopFile(\"hdfs://namenodehost/parent/child\",'org.apache.hadoop.mapred.TextOutputFormat')"
      ],
      "metadata": {
        "id": "bMy8rkqpDeYm"
      },
      "execution_count": null,
      "outputs": []
    },
    {
      "cell_type": "markdown",
      "source": [
        "# Section 11: Stopping SparkContext"
      ],
      "metadata": {
        "id": "fLDVgTXWDn79"
      }
    },
    {
      "cell_type": "code",
      "source": [
        "sc.stop()"
      ],
      "metadata": {
        "id": "un_Bdt_4Dp8y"
      },
      "execution_count": null,
      "outputs": []
    },
    {
      "cell_type": "markdown",
      "source": [
        "# Section 12: Execution"
      ],
      "metadata": {
        "id": "RVAhn2oYDruF"
      }
    },
    {
      "cell_type": "code",
      "source": [
        "!./bin/spark-submit examples/src/main/python/pi.py"
      ],
      "metadata": {
        "id": "8s8NswnhDvPd"
      },
      "execution_count": null,
      "outputs": []
    }
  ]
}