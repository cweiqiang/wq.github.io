{
  "nbformat": 4,
  "nbformat_minor": 0,
  "metadata": {
    "colab": {
      "provenance": [],
      "include_colab_link": true
    },
    "kernelspec": {
      "name": "python3",
      "display_name": "Python 3"
    },
    "language_info": {
      "name": "python"
    },
    "gpuClass": "standard",
    "accelerator": "GPU"
  },
  "cells": [
    {
      "cell_type": "markdown",
      "metadata": {
        "id": "view-in-github",
        "colab_type": "text"
      },
      "source": [
        "<a href=\"https://colab.research.google.com/github/cweiqiang/wq.github.io/blob/main/Analysing_ESG_Documents_(micro_course).ipynb\" target=\"_parent\"><img src=\"https://colab.research.google.com/assets/colab-badge.svg\" alt=\"Open In Colab\"/></a>"
      ]
    },
    {
      "cell_type": "markdown",
      "source": [
        "# Introduction\n",
        "\n",
        "Welcome to Activity 3 and 4 of the micro-course!\n",
        "\n",
        "In this activity, you will be building an ESG report classifier using the BERT transformer model. \n",
        "\n",
        "Here are the steps that we will be taking throughout this micro-course:\n",
        "1. Install the relevant libraries\n",
        "2. Upload a list of exemplars\n",
        "3. Create a numerical representation (embeddings) of the exemplars\n",
        "4. Create a numerical representation of the example text\n",
        "5. Calculate the similarity between the example text and exemplars\n",
        "\n",
        "Without further ado, let's get started! \n",
        "\n",
        "---\n",
        "\n",
        "**Note**\n",
        "\n",
        "If you have not watched the \"how-to-use-google-colab\" video, please watch the video in the next cell."
      ],
      "metadata": {
        "id": "SZLuBb5qrGzb"
      }
    },
    {
      "cell_type": "code",
      "source": [
        "#@title Google Colab Demo Video\n",
        "from IPython.display import HTML\n",
        "\n",
        "HTML('<iframe width=\"560\" height=\"315\" src=\"https://www.youtube.com/embed/GuDHAgfIFWQ\" title=\"YouTube video player\" frameborder=\"0\" allow=\"accelerometer; autoplay; clipboard-write; encrypted-media; gyroscope; picture-in-picture\" allowfullscreen></iframe>')"
      ],
      "metadata": {
        "id": "4oHMKKi3LpOq",
        "colab": {
          "base_uri": "https://localhost:8080/",
          "height": 336
        },
        "outputId": "da7f2146-aa6d-43e8-ae0f-3e6421499554"
      },
      "execution_count": null,
      "outputs": [
        {
          "output_type": "execute_result",
          "data": {
            "text/plain": [
              "<IPython.core.display.HTML object>"
            ],
            "text/html": [
              "<iframe width=\"560\" height=\"315\" src=\"https://www.youtube.com/embed/GuDHAgfIFWQ\" title=\"YouTube video player\" frameborder=\"0\" allow=\"accelerometer; autoplay; clipboard-write; encrypted-media; gyroscope; picture-in-picture\" allowfullscreen></iframe>"
            ]
          },
          "metadata": {},
          "execution_count": 2
        }
      ]
    },
    {
      "cell_type": "markdown",
      "source": [
        "# Installing and importing libraries\n",
        "\n",
        "In Python programming, the use of relevant libraries helps us to achieve our goals faster. There are many Python libraries that complete different tasks.\n",
        "In our task today, we will be installing and importing some Machine Learning libraries to help us.\n",
        "\n",
        "Some examples include:\n",
        "\n",
        "1. Transformers (It allows us to use models from the Hugging Face model hub)\n",
        "2. NumPy (It allows us to work with large, multi-dimensional arrays and matrices)\n",
        "3. Pandas (It offers data structures and operations for manipulating numerical tables and time series. It allows us to work with CSV files easily)\n",
        "4. Scikit-learn (Scikit-learn is a software machine learning library for the Python language. We will be using its similarity metrics)\n",
        "\n",
        "---\n",
        "\n",
        "**Instructions**\n",
        "\n",
        "Run cells 1 and 2 to install and import relevant libraries into Google Colab"
      ],
      "metadata": {
        "id": "3sYDqvGfhvbY"
      }
    },
    {
      "cell_type": "code",
      "execution_count": null,
      "metadata": {
        "id": "eo51vUCVrA3P",
        "cellView": "form"
      },
      "outputs": [],
      "source": [
        "#@title 1. Run cell to install relevant libraries\n",
        "! pip install transformers"
      ]
    },
    {
      "cell_type": "code",
      "source": [
        "#@title 2. Run cell to import relevant libraries\n",
        "import numpy as np\n",
        "from numpy.linalg import norm\n",
        "from sklearn.metrics.pairwise import cosine_similarity\n",
        "import pandas as pd\n",
        "import json"
      ],
      "metadata": {
        "id": "RuVg0-wYxlPR",
        "cellView": "form"
      },
      "execution_count": null,
      "outputs": []
    },
    {
      "cell_type": "markdown",
      "source": [
        "# Hugging Face The BERT Family\n",
        "\n",
        "In this activity, we will be using the BERT model from the Hugging Face Models library.\n",
        "\n",
        "Hugging Face is most notable for its Transformers library built for natural language processing applications and its platform that allows users to share machine learning models and datasets.\n",
        "\n",
        "BERT, short for Bidirectional Encoder Representations from Transformers, is a Machine Learning (ML) model for natural language processing. It was developed in 2018 by researchers at Google AI Language and serves as a solution to many language tasks, such as sentiment analysis and named entity recognition. You can read more about the BERT model at https://huggingface.co/blog/bert-101.\n",
        "\n",
        "---\n",
        "\n",
        "When a sentence/paragraph is passed into the BERT model, a numerical representation (embeddings) is generated in the last hidden layer before the classification head (that does the classification).\n",
        "\n",
        "When we study the BERT model architecture, we understand that a [CLS] token in the last hidden layer contains the context of the sentence. This [CLS] token will be instrumental for us to compare the similarity between two texts.\n",
        "\n",
        "If you do not understand this at this moment, what you need to know are two things:\n",
        "1. When we pass an input sentence/paragraph into the BERT model, we want to get the [CLS] token in the last hidden layer\n",
        "2. We will use the [CLS] tokens to run similarity calculations on\n",
        "\n",
        "---\n",
        "\n",
        "**Instructions**\n",
        "\n",
        "Run cell 3 with \"nbroad/ESG-BERT\" as the model_to_load.\n"
      ],
      "metadata": {
        "id": "2cJ3eJAyrs4c"
      }
    },
    {
      "cell_type": "code",
      "source": [
        "#@title 3. Choose your model for the drop-down list\n",
        "\n",
        "from transformers import BertTokenizer, BertModel\n",
        "import torch\n",
        "from torch import nn\n",
        "\n",
        "model_to_load = 'nbroad/ESG-BERT' #@param [\"nbroad/ESG-BERT\", \"bert-base-cased\", \"bert-large-cased\"]\n",
        "tokenizer = BertTokenizer.from_pretrained(model_to_load)\n",
        "model = BertModel.from_pretrained(model_to_load)"
      ],
      "metadata": {
        "id": "umxKfFAxrEka",
        "cellView": "form"
      },
      "execution_count": null,
      "outputs": []
    },
    {
      "cell_type": "markdown",
      "source": [
        "Since we will be reusing some code, we will write some functions that can be reused. The following functions were written:\n",
        "\n",
        "1. A function to obtain the [CLS] token from the BERT model as a numerical representation (embeddings)\n",
        "2. A function to calculate the similarity of two texts (more about that later!)\n",
        "3. A function to convert all exemplars into numerical representation (embeddings)\n",
        "4. A function that loads numerical representations in a csv file\n",
        "5. A function that batch outputs similarity scores between reference text and all exemplar embeddings\n",
        "\n",
        "---\n",
        "\n",
        "**Instructions**\n",
        "Run cell 4 to create all the functions"
      ],
      "metadata": {
        "id": "pOO-sbl4n-n8"
      }
    },
    {
      "cell_type": "code",
      "source": [
        "#@title 4. All functions required\n",
        "\n",
        "def obtain_cls_token(tokenizer, model, text):\n",
        "    '''\n",
        "    Returns the [CLS] token embeddings of the text provided\n",
        "\n",
        "            Parameters:\n",
        "                    tokenizer: The tokenizer loaded from the model checkpoint\n",
        "                    model: The model loaded from the model checkpoint\n",
        "                    text: Text string to generate the embeddings from\n",
        "\n",
        "            Returns:\n",
        "                    embeddings: A numpy array of the [CLS] token embeddings\n",
        "    '''\n",
        "\n",
        "    encoded_input = tokenizer(text, return_tensors='pt')\n",
        "    output = model(**encoded_input, output_hidden_states=True)\n",
        "    embeddings = output.last_hidden_state.detach()[:,0,:].numpy()\n",
        "\n",
        "    return embeddings\n",
        "\n",
        "def calculate_cosine_sim(reference_embeddings, comparison_embeddings):\n",
        "    '''\n",
        "    Calculates the cosine similarity between reference and comparison embeddings\n",
        "\n",
        "            Parameters:\n",
        "                    reference_embeddings: The numpy array of the embeddings of the reference text\n",
        "                    comparison_embeddings: The numpy array of the embeddings of the comparison text\n",
        "\n",
        "            Returns:\n",
        "                    cosine: A cosine similarity score\n",
        "    '''\n",
        "\n",
        "    cosine = cosine_similarity(reference_embeddings, comparison_embeddings)\n",
        "\n",
        "    cosine = round(cosine[0][0],2)\n",
        "\n",
        "    return cosine\n",
        "\n",
        "def create_examplar_embeddings(csv_path, tokenizer, model):\n",
        "    '''\n",
        "    Creates a json file of all embeddings of exemplar texts\n",
        "\n",
        "            Parameters:\n",
        "                    csv_path: The path to the csv file containing the exemplar texts\n",
        "                    tokenizer: The tokenizer loaded from the model checkpoint\n",
        "                    model: The model loaded from the model checkpoint\n",
        "    '''\n",
        "\n",
        "    df = pd.read_csv(csv_path)\n",
        "\n",
        "    embeddings_dataset = []\n",
        "\n",
        "    # loop through rows and get embeddings\n",
        "    for index, row_data in df.iterrows():\n",
        "        title = row_data[0]\n",
        "        text = row_data[1]\n",
        "\n",
        "        embeddings = obtain_cls_token(tokenizer, model, text)\n",
        "\n",
        "        # Append embeddings and titles into embeddings_dataset\n",
        "        embeddings_dataset.append([title,embeddings])\n",
        "\n",
        "        # Create json file\n",
        "        json_dict = {}\n",
        "\n",
        "        for item in embeddings_dataset:\n",
        "            json_dict[item[0]] = item[1].tolist()\n",
        "\n",
        "    out_file_name = \"reference_embeddings.json\"\n",
        "\n",
        "    out_file = open(out_file_name, \"w\")\n",
        "\n",
        "    json.dump(json_dict, out_file, indent = 6)\n",
        "\n",
        "    out_file.close()\n",
        "\n",
        "    print(f\"Embeddings created and stored as JSON as '{out_file_name}'\")\n",
        "\n",
        "\n",
        "def get_reference_embeddings(reference_embeddings_json_path):\n",
        "    '''\n",
        "    Returns an array of exemplar labels and their embeddings\n",
        "\n",
        "            Parameters:\n",
        "                    reference_embeddings_json_path: The path to the json file containing the exemplar embeddings\n",
        "\n",
        "            Returns:\n",
        "                    full_array: An array containing the exemplar labels and a numpy array of their [CLS] token embeddings\n",
        "    '''\n",
        "\n",
        "    # Opening reference embeddings JSON file\n",
        "    with open(reference_embeddings_json_path, encoding='utf-8') as f:\n",
        "        data = json.load(f)\n",
        "\n",
        "    # Convert data to array\n",
        "    full_array = []\n",
        "\n",
        "    for key in data:\n",
        "        full_array.append([key, data[key]])\n",
        "\n",
        "    return full_array\n",
        "\n",
        "def get_similarity_scores(comparison_text, full_array, tokenizer, model):\n",
        "    '''\n",
        "    Generates the cosine similarity scores of the comparison text against the exemplars embeddings\n",
        "\n",
        "            Parameters:\n",
        "                    comparison_text: Text string of the comparison text\n",
        "                    full_array: An array containing the exemplar labels and a numpy array of their [CLS] token embeddings\n",
        "                    tokenizer: The tokenizer loaded from the model checkpoint\n",
        "                    model: The model loaded from the model checkpoint\n",
        "\n",
        "            Returns:\n",
        "                    output_array: An array of labels and their respective cosine similarity scores\n",
        "                    highest_prob_title: A string of the highest probability label\n",
        "                    highest_prob_title_score: A float of the highest probability label\n",
        "                    scores_array_np: An array of cosine similarity scores\n",
        "    '''\n",
        "\n",
        "    output_array = []\n",
        "    scores_array = []\n",
        "\n",
        "    comparison_embeddings = obtain_cls_token(tokenizer, model, comparison_text)\n",
        "\n",
        "    for array_item in full_array:\n",
        "        reference_embeddings = np.array(array_item[1])\n",
        "        cosine_sim_output = calculate_cosine_sim(reference_embeddings, comparison_embeddings)\n",
        "        scores_array.append(cosine_sim_output)\n",
        "        output_array.append([array_item[0], cosine_sim_output])\n",
        "\n",
        "    # Get the topic with the highest score\n",
        "    scores_array_np = np.array(scores_array)\n",
        "    max_index = np.argmax(scores_array)\n",
        "    highest_prob_label = full_array[max_index][0]\n",
        "    highest_prob_label_score = output_array[max_index][1]\n",
        "\n",
        "    return output_array, highest_prob_label, highest_prob_label_score, scores_array_np"
      ],
      "metadata": {
        "id": "Sh_36pNkrbYL",
        "cellView": "form"
      },
      "execution_count": null,
      "outputs": []
    },
    {
      "cell_type": "markdown",
      "source": [
        "Once we have written our functions, it is time for us to turn our exemplars into numerical representations (embeddings). \n",
        "\n",
        "---\n",
        "\n",
        "**Instructions**\n",
        "- Please ensure that you have uploaded \"Categories and Exemplars.csv\" into the Google Colab Files Directory\n",
        "- Run cell 5 to create the numerical representations (embeddings)"
      ],
      "metadata": {
        "id": "0GMM2Ua2OS0t"
      }
    },
    {
      "cell_type": "code",
      "source": [
        "#@title 5. Create reference embedddings\n",
        "\n",
        "create_examplar_embeddings(\"Categories and Exemplars.csv\", tokenizer, model)"
      ],
      "metadata": {
        "id": "HZF1f0xy55Z5",
        "cellView": "form"
      },
      "execution_count": null,
      "outputs": []
    },
    {
      "cell_type": "markdown",
      "source": [
        "# Similiarity Measures\n",
        "\n",
        "Now it is time for us to compare texts from ESG documents with our reference embeddings.\n",
        "\n",
        "To simulate this, we will manually extract any paragraph from an ESG document of our choice and compare its similarity with all the exemplars.\n",
        "\n",
        "However, because not all BERT models are trained to classify the text into the 26 categories, we have to look for another method to compare its similarity. \n",
        "\n",
        "We have already done that by generating a numerical representation (embeddings) of each exemplar by extracting the [CLS] token of the last hidden layer.\n",
        "\n",
        "Now, we can compare the embeddings of the extracted text with the exemplars. There are many similarity measures out there, but the popular one used in Natural Language Processing (NLP) is **Cosine Similarity**.\n",
        "\n",
        "Cosine similarity is a measure of similarity between two sequences of numbers. The sequence of numbers is represented as vectors and cosine similarity calculates the cosine of the angle between them. Proportional vectors have a cosine similarity of 1 and opposite vectors have a similarity of -1. In other words, if two texts are exactly the same, it has a value of one. If the meaning is exactly the opposite, it should give us a value of -1.*\n",
        "\n",
        "*You might find that this is not always true, especially when the \"meaning\" is not captured accurately.\n",
        "\n",
        "![image.png](data:image/png;base64,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)\n",
        "\n",
        "[Source: pyimagesearch]\n",
        "\n",
        "---\n",
        "\n",
        "**Instructions**\n",
        "1. Extract text from a PDF / create your own sentence and key it in the \"comparison_text\" field in Cell 6. \n",
        "2. Run cell 6"
      ],
      "metadata": {
        "id": "1SMFuoHtPIe8"
      }
    },
    {
      "cell_type": "code",
      "source": [
        "#@title 6. Compare text with reference embeddings\n",
        "\n",
        "comparison_text = 'In fiscal year 2019, we reduced our comprehensive carbon footprint for the fourth consecutive year\\u2014down 35 percent compared to 2015, when Apple\\u2019s carbon emissions peaked, even as net revenue increased by 11 percent over that same period. In the past year, we avoided over 10 million metric tons from our emissions reduction initiatives\\u2014like our Supplier Clean Energy Program, which lowered our footprint by 4.4 million metric tons. ' #@param {type:\"string\"}\n",
        "\n",
        "json_file_path = 'reference_embeddings.json' #@param {type:\"string\"}\n",
        "\n",
        "full_array = get_reference_embeddings(json_file_path)\n",
        "\n",
        "output_scores_array, most_probable, max_score, scores_array = get_similarity_scores(comparison_text, full_array, tokenizer, model)\n",
        "\n",
        "print(\"Scores generated.\\n\")\n",
        "print(\"Run the next few cells to print out the data.\")"
      ],
      "metadata": {
        "id": "t4TYs40erboQ",
        "cellView": "form"
      },
      "execution_count": null,
      "outputs": []
    },
    {
      "cell_type": "markdown",
      "source": [
        "In Activity 2, you might have realised that there will always be irrelevant texts. However, the model is not trained on categorising non-examples. Additionally, our current similarity metric simply tells us how similar a text is to the exemplars; it does not indicate the relevance of the text.\n",
        "\n",
        "One way to circumvent the issue is to set a tolerance value. If none of the similarity calculations gives a value above the tolerance value, the text will be classified as irrelevant.\n",
        "\n",
        "---\n",
        "\n",
        "\n",
        "**Instructions**\n",
        "1. Adjust the tolerance value\n",
        "2. Run cells 7 to 9"
      ],
      "metadata": {
        "id": "764ElR8RRgTK"
      }
    },
    {
      "cell_type": "code",
      "source": [
        "#@title 7. Adjust the tolerance value\n",
        "\n",
        "tolerance = 0.75 #@param {type:\"slider\", min:0, max:1, step:0.01}"
      ],
      "metadata": {
        "id": "UmRz1vfzDiB1",
        "cellView": "form"
      },
      "execution_count": null,
      "outputs": []
    },
    {
      "cell_type": "code",
      "source": [
        "#@title 8. Run this cell to get the most probable data and its score \n",
        "\n",
        "if max_score >= tolerance:\n",
        "  print(f\"{most_probable}: {max_score}\")\n",
        "else:\n",
        "  print(\"None of the options gave cosine similarity values greater than the tolerance value. Hence, this text is irrelevant.\")"
      ],
      "metadata": {
        "id": "-xVX3x2kAVbB",
        "cellView": "form"
      },
      "execution_count": null,
      "outputs": []
    },
    {
      "cell_type": "code",
      "source": [
        "#@title 9. Run this cell to get the full array of cosine similarity scores\n",
        "for item in output_scores_array:\n",
        "  print(f\"{item[0]}: {item[1]}\")"
      ],
      "metadata": {
        "id": "g3Yu-n0B9xEO",
        "cellView": "form"
      },
      "execution_count": null,
      "outputs": []
    },
    {
      "cell_type": "markdown",
      "source": [
        "Congratulations!\n",
        "\n",
        "You have now built your first ESG text classifier using similarity metrics!"
      ],
      "metadata": {
        "id": "kzJPv7-AcO4w"
      }
    }
  ]
}