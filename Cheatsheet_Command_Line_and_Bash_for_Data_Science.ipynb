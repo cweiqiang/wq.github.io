{
  "nbformat": 4,
  "nbformat_minor": 0,
  "metadata": {
    "colab": {
      "name": "Cheatsheet-Command_Line_and_Bash_for_Data_Science.ipynb",
      "provenance": [],
      "toc_visible": true,
      "collapsed_sections": [],
      "authorship_tag": "ABX9TyPKDO8Vo2EtpZk/7foWG6nz",
      "include_colab_link": true
    },
    "kernelspec": {
      "name": "python3",
      "display_name": "Python 3"
    },
    "language_info": {
      "name": "python"
    }
  },
  "cells": [
    {
      "cell_type": "markdown",
      "metadata": {
        "id": "view-in-github",
        "colab_type": "text"
      },
      "source": [
        "<a href=\"https://colab.research.google.com/github/cweiqiang/wq.github.io/blob/main/Cheatsheet_Command_Line_and_Bash_for_Data_Science.ipynb\" target=\"_parent\"><img src=\"https://colab.research.google.com/assets/colab-badge.svg\" alt=\"Open In Colab\"/></a>"
      ]
    },
    {
      "cell_type": "markdown",
      "source": [
        "# Section 1. Manipulating files and directories"
      ],
      "metadata": {
        "id": "1MV7PsEspqhH"
      }
    },
    {
      "cell_type": "markdown",
      "source": [
        "## Basic commands: `pwd`, `ls`\n",
        "\n",
        "- `pwd` — print working directory\n",
        "\n",
        "- `ls` — listing of items and directory\n",
        "  - `ls -l` — lists read, write permission details of each item listed \n",
        "  - `ls -RF`\n",
        "  - `ls -RF directoryA`\n",
        "  - `ls -FR directoryA`\n",
        "  - `ls -F -R directoryA`\n",
        "  - `ls -R -F directoryA`\n",
        "  \n",
        "    - `-R` — recursive, list everything below a directory\n",
        "    - `-F` — prints a / after the name of every directory and a * after the name of every runnable program."
      ],
      "metadata": {
        "id": "yPQDRJgWpvuP"
      }
    },
    {
      "cell_type": "code",
      "execution_count": null,
      "metadata": {
        "id": "DIlHiCi-oJno"
      },
      "outputs": [],
      "source": [
        ""
      ]
    },
    {
      "cell_type": "markdown",
      "source": [
        "## Basic commands: Directory\n",
        "\n",
        "`.` — the current directory\n",
        "\n",
        "`..` — the directory above the one I’m currently in\n",
        "\n",
        "`~` — your home directory"
      ],
      "metadata": {
        "id": "HsO48qIvp7w-"
      }
    },
    {
      "cell_type": "code",
      "source": [
        ""
      ],
      "metadata": {
        "id": "IK-v3RyLqCGh"
      },
      "execution_count": null,
      "outputs": []
    },
    {
      "cell_type": "markdown",
      "source": [
        "## Basic commands: `cp`, `mv`\n",
        "\n",
        "- `cp` — copy\n",
        "\n",
        "  - `cp fileA fileB` —  copy fileA to fileB\n",
        "\n",
        "  - `cp fileA fileB fileC NewDirectory` —  copy fileA fileB fileC to NewDirectory\n",
        "\n",
        "- `mv` — move (when a new destination directory is specified)\n",
        "  - `mv` – rename (when no new destination directory is specified) same syntax as copy\n",
        "  - `mv fileA fileB` — rename fileA to fileB\n",
        "  - `mv fileA fileB fileC NewDirectory`  — move fileA fileB fileC to NewDirectory\n",
        "\n",
        "**Caution: both `cp` and `mv` will overwrite the existing file**"
      ],
      "metadata": {
        "id": "-lGA2JBLqRq0"
      }
    },
    {
      "cell_type": "code",
      "source": [
        ""
      ],
      "metadata": {
        "id": "JMTIvZq-qlzZ"
      },
      "execution_count": null,
      "outputs": []
    },
    {
      "cell_type": "markdown",
      "source": [
        "## Basic commands: `rm`, `rmdir`, `mkdir`\n",
        "\n",
        "- `rm` — remove files\n",
        "  - `rm fileA fileB`\n",
        "  - `rm -r` — command deletes the folder recursively, even the empty folder. \n",
        "  - `rm -rf /` — Force deletion of everything in root directory\n",
        "  - `rm -vrf dir1` — visual confirmation about deleting directory\n",
        "\n",
        "See more details here at https://www.cyberciti.biz/faq/how-to-remove-non-empty-directory-in-linux/\n",
        "\n",
        "**Use \"\" when your directory path (absolute or relative) or name contains spaces**\n",
        "\n",
        "**caution: if a file is removed, it’s removed forever**\n",
        "\n",
        "- `rmdir` — remove an empty directory\n",
        "  - `rmdir directoryA`\n",
        "- `mkdir` — make a directory\n",
        "  - `mkdir directoryA`\n",
        "\n"
      ],
      "metadata": {
        "id": "lk2pRZoNrSqN"
      }
    },
    {
      "cell_type": "code",
      "source": [
        ""
      ],
      "metadata": {
        "id": "8Qlgl3pormMw"
      },
      "execution_count": null,
      "outputs": []
    },
    {
      "cell_type": "markdown",
      "source": [
        "# Section 2. Manipulating data"
      ],
      "metadata": {
        "id": "zfEAXykjuCcO"
      }
    },
    {
      "cell_type": "markdown",
      "source": [
        "## `'cat'` (Show file contents, concatenate)\n",
        "\n",
        "- `cat` — concatenate, show file contents\n",
        "  - `cat fileA`"
      ],
      "metadata": {
        "id": "mFF6idJkuMgB"
      }
    },
    {
      "cell_type": "markdown",
      "source": [
        "## `'less'` (show file contents)\n",
        "\n",
        "- `less` — is more, show file contents\n",
        "  - `less fileA fileB`\n",
        "\n",
        "- When `less fileA`\n",
        "  - space — page down\n",
        "  - `:n` — to move to the next file\n",
        "  - `:p` — to go back to the previous one\n",
        "  - `:q` — to quit."
      ],
      "metadata": {
        "id": "U2eSeJciuOzx"
      }
    },
    {
      "cell_type": "code",
      "source": [
        ""
      ],
      "metadata": {
        "id": "OG4bAaAEuEOQ"
      },
      "execution_count": null,
      "outputs": []
    },
    {
      "cell_type": "markdown",
      "source": [
        "## `'head'` (display first few lines of a file)\n",
        "- `head` — display first 10 lines of a file\n",
        "  - `head fileA`"
      ],
      "metadata": {
        "id": "mLNSuYpPvKHW"
      }
    },
    {
      "cell_type": "markdown",
      "source": [
        "## `'tail'` (display last few lines of a file)\n",
        "\n",
        "- `tail` — display last 10 lines of a file\n",
        "  - `tail -n 1 fileA` — display last 1 lines of a fileA\n",
        "  - `tail -n +2 fileA` — display from the 2nd lines to the end of a fileA"
      ],
      "metadata": {
        "id": "SLh_pfbq3PVN"
      }
    },
    {
      "cell_type": "markdown",
      "source": [
        "## Command-line flag\n",
        "- `head -n 3 fileA` — display first $n$($n = 3$ here) lines of a file\n",
        "  - `-n` — number of lines"
      ],
      "metadata": {
        "id": "vHhCYd64vVPb"
      }
    },
    {
      "cell_type": "markdown",
      "source": [
        "## `'man'` (manual)\n",
        "\n",
        "- `man — manual`\n",
        "- `man head`\n",
        "\n",
        "`man` automatically invokes `less`, so you may need to press spacebar to page through the information\n",
        "and `:q` to quit.\n",
        "\n",
        "The one-line description under NAME tells you briefly what the command does, and the summary\n",
        "under SYNOPSIS lists all the flags it understands. \n",
        "\n",
        "Anything that is optional is shown in square\n",
        "brackets [...], either/or alternatives are separated by |, and things that can be repeated are shown\n",
        "by ..., \n",
        "\n",
        "\n",
        "so head‘s manual page is telling you that you can either give a line count with `-n` or a byte\n",
        "count with `-c`, and that you can give it any number of filenames."
      ],
      "metadata": {
        "id": "2OC7CmUjwVqf"
      }
    },
    {
      "cell_type": "code",
      "source": [
        ""
      ],
      "metadata": {
        "id": "dxNNSvDRvJxv"
      },
      "execution_count": null,
      "outputs": []
    },
    {
      "cell_type": "markdown",
      "source": [
        "## `'cut'` (Select Columns)\n",
        "\n",
        "- `cut -f 2-5,8 -d , fileA.csv`\n",
        "  - `-f 2-5, 8` — fields, select columns 2 through 5 and columns 8, using comma as the separator\n",
        "  - `-d` , — delimiter, use ‘,’ as default delimiter\n",
        "\n",
        "- `cut -f2 -d , fileA.csv`\n",
        "- `cut -f 2 -d , fileA.csv`\n",
        "are the same.\n",
        "\n",
        "Space is optional between `-f` and `2`"
      ],
      "metadata": {
        "id": "hI7uunMtxAlA"
      }
    },
    {
      "cell_type": "code",
      "source": [
        ""
      ],
      "metadata": {
        "id": "koOQZ2VZxB63"
      },
      "execution_count": null,
      "outputs": []
    },
    {
      "cell_type": "markdown",
      "source": [
        "## `'history'`, `'!'` (Retrieve past commands)\n",
        "\n",
        "- `history` — print a list of commands you have run recently\n",
        "- `!some_command` — run the last some_command again(ex. `!cut`)\n",
        "  - `!2` — run the 2nd command listed in history"
      ],
      "metadata": {
        "id": "wTVo7lVAxi6v"
      }
    },
    {
      "cell_type": "code",
      "source": [
        ""
      ],
      "metadata": {
        "id": "h7cWK_VjxnmZ"
      },
      "execution_count": null,
      "outputs": []
    },
    {
      "cell_type": "markdown",
      "source": [
        "## `'grep'` (Find Matches of Pattern in file)\n",
        "\n",
        "- `grep patternA fileA`\n",
        "  -`c`: print a count of matching lines of `patternA` in `fileA` rather than the lines themselves\n",
        "  - `h`: do not print the names of files when searching multiple files\n",
        "  - `i`: ignore case (e.g., treat “Regression” and “regression” as matches)\n",
        "  - `l`: print the names of files that contain matches, not the matches\n",
        "  - `n`: print line numbers for matching lines\n",
        "  - `v`: invert the match, i.e., only show lines that don’t match\n",
        "\n",
        "\n",
        "\n",
        "---\n",
        "\n",
        "\n",
        "\n",
        "---\n",
        "\n"
      ],
      "metadata": {
        "id": "qb6RaMV0x0SB"
      }
    },
    {
      "cell_type": "markdown",
      "source": [
        "`grep molar seasonal/autumn.csv`\n",
        "\n",
        "2017-02-01,molar\n",
        "\n",
        "2017-05-25,molar\n",
        "\n",
        "\n",
        "---\n",
        "\n",
        "\n",
        "\n",
        "`grep -nv molar seasonal/spring.csv`\n",
        "\n",
        "1:Date,Tooth\n",
        "\n",
        "2:2017-01-25,wisdom\n",
        "\n",
        "3:2017-02-19,canine\n",
        "\n",
        "...\n",
        "\n",
        "22:2017-08-13,incisor\n",
        "\n",
        "23:2017-08-13,wisdom\n",
        "\n",
        "\n",
        "---\n",
        "\n",
        "\n",
        "\n",
        "---\n",
        "\n",
        "\n",
        "\n",
        "`grep -c incisor seasonal/autumn.csv seasonal/winter.csv`\n",
        "\n",
        "seasonal/autumn.csv:3\n",
        "\n",
        "seasonal/winter.csv:6"
      ],
      "metadata": {
        "id": "TLh3D0FByji9"
      }
    },
    {
      "cell_type": "code",
      "source": [
        ""
      ],
      "metadata": {
        "id": "7O4cWa-RyBNg"
      },
      "execution_count": null,
      "outputs": []
    },
    {
      "cell_type": "markdown",
      "source": [
        "## `'paste'` (Combine data files)\n",
        "\n",
        "- `grep 2017-07 seasonal/spring.csv | wc -l\n",
        "paste` — to combine data files\n",
        "\n",
        "\n",
        "\n",
        "---\n",
        "\n",
        "\n",
        "\n",
        "---\n",
        "\n"
      ],
      "metadata": {
        "id": "jUMBQStQzNW3"
      }
    },
    {
      "cell_type": "markdown",
      "source": [
        "- `paste -d , seasonal/autumn.csv seasonal/winter.csv`\n",
        "\n",
        "Date,Tooth,Date,Tooth\n",
        "\n",
        "2017-01-05,canine,2017-01-03,bicuspid\n",
        "\n",
        "2017-01-17,wisdom,2017-01-05,incisor\n",
        "\n",
        "2017-01-18,canine,2017-01-21,wisdom\n",
        "\n",
        "...\n",
        "\n",
        "2017-08-16,canine,2017-07-01,incisor,\n",
        "\n",
        "2017-07-17,canine,2017-08-10,incisor\n",
        "...\n",
        "\n",
        "**The last few rows have the wrong number of columns.**"
      ],
      "metadata": {
        "id": "Gddj2VVAzzOH"
      }
    },
    {
      "cell_type": "code",
      "source": [
        ""
      ],
      "metadata": {
        "id": "sbLM1E-yzT8m"
      },
      "execution_count": null,
      "outputs": []
    },
    {
      "cell_type": "markdown",
      "source": [
        "# Section 3: Combining tools\n",
        "\n"
      ],
      "metadata": {
        "id": "RMUIs0Ko0s7m"
      }
    },
    {
      "cell_type": "markdown",
      "source": [
        "## `'>'` (Store output in a file) \n",
        "\n",
        "- `some_command > new_file`\n",
        "  - eg. `tail -n 5 seasonal/winter.csv > last.csv`"
      ],
      "metadata": {
        "id": "3-XIjRMd0yvz"
      }
    },
    {
      "cell_type": "markdown",
      "source": [
        "## ` '|' ` (Combine/Pipeline commands)\n",
        "\n",
        "- `command_1 | command_2 | …`\n",
        "  - `cut -f 2 -d , seasonal/summer.csv | grep -v Tooth`\n",
        "\n",
        " - Command_1: Select `field`, with column `2` using comma `,` as the `delimiter` for directory/file `seasonal/summer.csv`\n",
        " - Command_2: Print `inverted` (**non**-)matching lines with `Tooth` from the output of Command1\n",
        "\n",
        "---\n",
        "canine\n",
        "\n",
        "wisdom\n",
        "\n",
        "bicuspid\n",
        "...\n",
        "\n"
      ],
      "metadata": {
        "id": "eCYAHctc1Kra"
      }
    },
    {
      "cell_type": "code",
      "source": [
        ""
      ],
      "metadata": {
        "id": "V0q2k1Rn0wau"
      },
      "execution_count": null,
      "outputs": []
    },
    {
      "cell_type": "markdown",
      "source": [
        "## `'wc'` (Wordcount)\n",
        "\n",
        "- `wc` — word count, prints the number of `characters`, `words`, and `lines` in a file. You can make it print\n",
        "only one of these using `-c`, `-w`, or `-l` respectively.\n",
        "\n",
        "  - `grep 2017-07 seasonal/spring.csv | wc -l`"
      ],
      "metadata": {
        "id": "gKJnmDUO3qW6"
      }
    },
    {
      "cell_type": "markdown",
      "source": [
        "## `'*'`: (wildcards, match >=0 chars)\n",
        "\n",
        "- `*`, which means “match zero or more characters”.\n",
        "\n",
        "\n",
        "\n",
        "---\n",
        "\n",
        "\n",
        "`head -n 3 seasonal/s*.csv`\n",
        "\n",
        "\n",
        "---\n",
        "\n",
        "\n",
        "==> seasonal/spring.csv <==\n",
        "\n",
        "Date,Tooth\n",
        "\n",
        "2017-01-25,wisdom\n",
        "\n",
        "2017-02-19,canine\n",
        "\n",
        "==> seasonal/summer.csv <==\n",
        "\n",
        "Date,Tooth\n",
        "\n",
        "2017-01-11,canine\n",
        "\n",
        "2017-01-18,wisdom\n"
      ],
      "metadata": {
        "id": "PcbWJjNW62oe"
      }
    },
    {
      "cell_type": "markdown",
      "source": [
        "## `'?'`, `'[]'`, `'{}'` (wildcards with more control) \n",
        "\n",
        "- `?` matches a single character, \n",
        "  - so `201?.txt` will match `2017.txt` or `2018.txt`, but\n",
        "not `2017-01.txt`.\n",
        "\n",
        "- `[...]` matches any one of the characters inside the square brackets,\n",
        "  - so `201[78].txt` matches `2017.txt` or `2018.txt`, but not `2016.txt`.\n",
        "- `{...}` matches any of the comma-separated patterns inside the curly brackets, \n",
        "  - so `{*.txt,*.csv}` matches any file whose name ends with `.txt` or `.csv`, but not files whose names end\n",
        "with `.pdf`."
      ],
      "metadata": {
        "id": "ySjRSNWa68Bc"
      }
    },
    {
      "cell_type": "markdown",
      "source": [
        "## `'sort'` (sort lines in csv)\n",
        "- `sort` — By default it does this in ascending alphabetical order\n",
        "  - `-n` and `-r` can be used to sort numerically and reverse the order of its output\n",
        "  - `-b` tells it to ignore leading blanks\n",
        "  - `-f` tells it to fold case (i.e., be case-insensitive)\n",
        "\n",
        "\n",
        "\n",
        "---\n",
        "`sort -r seasonal/summer.csv`\n",
        "\n",
        "\n",
        "---\n",
        "\n",
        "\n",
        "Date,Tooth\n",
        "\n",
        "2017-08-04,canine\n",
        "\n",
        "2017-08-03,bicuspid\n",
        "\n",
        "2017-08-02,canine\n",
        "...\n"
      ],
      "metadata": {
        "id": "HUNArr_f9Zz3"
      }
    },
    {
      "cell_type": "markdown",
      "source": [
        "## `'uniq'` (Remove duplicated lines **after sort**)\n",
        "\n",
        "- `uniq` — remove duplicated lines\n",
        "\n",
        "\n",
        "---\n",
        "\n",
        "\n",
        "If a file contains of lines **already sorted with duplicates bunched together**:\n",
        "\n",
        "2017-07-03\n",
        "\n",
        "2017-07-03\n",
        "\n",
        "2017-08-03\n",
        "\n",
        "2017-08-03\n",
        "\n",
        "\n",
        "---\n",
        "Then `uniq` will produce:\n",
        "\n",
        "\n",
        "---\n",
        "2017-07-03\n",
        "\n",
        "2017-08-03\n",
        "\n",
        "\n",
        "---\n",
        "but if it contains lines **NOT sorted with duplicates bunched together**:\n",
        "\n",
        "2017-07-03\n",
        "\n",
        "2017-08-03\n",
        "\n",
        "2017-07-03\n",
        "\n",
        "2017-08-03\n",
        "\n",
        "then `uniq` will **print all four lines**.\n"
      ],
      "metadata": {
        "id": "a4dZr6hj-dGk"
      }
    },
    {
      "cell_type": "markdown",
      "source": [
        "The reason is that `uniq` is built to work with very large files. \n",
        "\n",
        "In order to remove non-adjacent lines\n",
        "from a file, it would have to keep the whole file in memory (or at least, all the unique lines seen so\n",
        "far). \n",
        "\n",
        "By only removing adjacent duplicates, it only has to keep the most recent unique line in memory.\n",
        "\n",
        "\n",
        "---\n",
        "\n",
        "\n",
        "\n",
        "---\n",
        "\n"
      ],
      "metadata": {
        "id": "n9UdGPYI_RNF"
      }
    },
    {
      "cell_type": "markdown",
      "source": [
        "- get the second column from `seasonal/winter.csv`,\n",
        "- remove the word `“Tooth”` from the output so that only **non-Tooth ** names are displayed\n",
        "- `sort` the output so that all occurrences of a particular non-tooth name are **adjacent**\n",
        "- display each non-tooth name once along with a count of how often it occurs\n",
        "\n",
        "\n",
        "---\n",
        "\n",
        "`cut -d , -f 2 seasonal/winter.csv | grep -v Tooth | sort | uniq`\n",
        "\n",
        "\n",
        "---\n",
        "\n",
        "\n",
        "\n",
        "---\n",
        "\n",
        "\n",
        "4 bicuspid\n",
        "\n",
        "7 canine\n",
        "\n",
        "6 incisor\n",
        "\n",
        "4 molar\n",
        " \n",
        "4 wisdom\n"
      ],
      "metadata": {
        "id": "E1TUXgb6_YtI"
      }
    },
    {
      "cell_type": "markdown",
      "source": [
        "## Combination of Commands with `'|'`\n",
        "\n",
        "`wc -l seasonal/*.csv`\n",
        "\n",
        "\n",
        "---\n",
        "\n",
        "\n",
        "21 seasonal/autumn.csv\n",
        "\n",
        "24 seasonal/spring.csv \n",
        "\n",
        "25 seasonal/summer.csv\n",
        "\n",
        "26 seasonal/winter.csv\n",
        "\n",
        "96 total\n",
        "\n",
        "\n",
        "\n",
        "---\n",
        "\n",
        "\n",
        "`wc -l seasonal/*.csv | grep -v total`\n",
        "\n",
        "\n",
        "---\n",
        "\n",
        "\n",
        "21 seasonal/autumn.csv\n",
        "\n",
        "24 seasonal/spring.csv\n",
        "\n",
        "25 seasonal/summer.csv\n",
        "\n",
        "26 seasonal/winter.csv\n",
        "\n",
        "\n",
        "---\n",
        "\n",
        "\n",
        "`wc -l seasonal/*.csv | grep -v total | sort -n | head -n 1`\n",
        "\n",
        "\n",
        "---\n",
        "\n",
        "\n",
        "21 seasonal/autumn.csv"
      ],
      "metadata": {
        "id": "zcsyTU7iCD4v"
      }
    },
    {
      "cell_type": "markdown",
      "source": [
        "# Section 4: Batch Processing\n",
        "\n",
        "\n"
      ],
      "metadata": {
        "id": "j3zqGKrkCeeZ"
      }
    },
    {
      "cell_type": "markdown",
      "source": [
        "## Environmental Variables\n",
        "\n",
        "\n",
        "<table>\n",
        "<tr>\n",
        "<th>Variable</th>\n",
        "<th>Purpose</th>\n",
        "<th>Value</th>\n",
        "</tr>\n",
        "<tr>\n",
        "<td>HOME</td>\n",
        "<td>User’s home directory</td>\n",
        "<td>/home/repl</td>\n",
        "</tr>\n",
        "<tr>\n",
        "<td>PWD</td>\n",
        "<td>Present working directory</td>\n",
        "<td>Same as pwd command</td>\n",
        "</tr>\n",
        "<tr>\n",
        "<td>SHELL</td>\n",
        "<td>Which shell program is being used</td>\n",
        "<td>/bin/bash</td>\n",
        "</tr>\n",
        "<tr>\n",
        "<td>USER</td>\n",
        "<td>User’s ID</td>\n",
        "<td>repl</td>\n",
        "</tr>\n",
        "</table>"
      ],
      "metadata": {
        "id": "fcVEp1LmDF7R"
      }
    },
    {
      "cell_type": "markdown",
      "source": [
        "To get a complete list (which is quite long), you can type set in the shell.\n",
        "\n",
        "e.g. `HISTFILESIZE` determines how many old commands are stored in your command history.\n",
        "\n",
        "\n",
        "---\n",
        "\n",
        "`set | grep HISTFILESIZE`\n",
        "\n",
        "\n",
        "---\n",
        "\n",
        "\n",
        "\n",
        "---\n",
        "\n",
        "\n",
        "HISTFILESIZE=2000"
      ],
      "metadata": {
        "id": "LyInfC-MD1RQ"
      }
    },
    {
      "cell_type": "code",
      "source": [
        ""
      ],
      "metadata": {
        "id": "T8weRrcYrm33"
      },
      "execution_count": null,
      "outputs": []
    },
    {
      "cell_type": "markdown",
      "source": [
        "## Print variable - `'echo $variable_name'`\n",
        "\n",
        "`echo` — prints its arguments.\n",
        "\n",
        "To get the variable’s value, you must put a dollar sign `$` in front of it.\n",
        "\n",
        "This is true everywhere: to get the value of a variable called X, you must write $X. (This is so that the\n",
        "shell can tell whether you mean “a file named X” or “the value of a variable named X”.)\n",
        "\n",
        "`echo $OSTYPE`\n",
        "\n",
        "\n",
        "---\n",
        "\n",
        "\n",
        "linux-gnu\n",
        "\n",
        "\n"
      ],
      "metadata": {
        "id": "NSu3ATSJrnQP"
      }
    },
    {
      "cell_type": "markdown",
      "source": [
        "## Shell variable - `'variable_name=value'`\n",
        "\n",
        "To create a shell variable, you simply assign a value to a name without any spaces before or after\n",
        "the `=` sign.\n",
        "\n",
        "`testing=seasonal/winter.csv`\n",
        "\n",
        "`head -n 1 $testing`\n"
      ],
      "metadata": {
        "id": "3Qi72Q1DsNAb"
      }
    },
    {
      "cell_type": "code",
      "source": [
        ""
      ],
      "metadata": {
        "id": "p4HxhNOzr0-A"
      },
      "execution_count": null,
      "outputs": []
    },
    {
      "cell_type": "markdown",
      "source": [
        "## For Loops\n",
        "\n",
        "`for filetype in gif jpg png`; \n",
        "\n",
        " `do echo $filetype; done`\n",
        "\n",
        " it produces:\n",
        "\n",
        "\n",
        "---\n",
        "gif\n",
        "\n",
        "jpg\n",
        "\n",
        "png\n"
      ],
      "metadata": {
        "id": "cZtGDCHfssvl"
      }
    },
    {
      "cell_type": "markdown",
      "source": [
        "1. The structure is for  `…variable… in …list…; do ...body... ; done`\n",
        "\n",
        "\n",
        "2. The list of things the loop is to process (in our case, the words gif, jpg, and png).\n",
        "\n",
        "Notice that the body uses `$filetype` to get the variable’s value instead of just filetype, just like\n",
        "it does with any other shell variable. \n",
        "\n",
        "Also notice where the semi-colons go: \n",
        "\n",
        "- the first one comes\n",
        "between the list and the keyword do, \n",
        "\n",
        "- and the second comes between the body and the keyword done."
      ],
      "metadata": {
        "id": "WbrI0nrStDnC"
      }
    },
    {
      "cell_type": "markdown",
      "source": [
        "## loops with wildcard *\n",
        "\n",
        "`for filename in seasonal/*.csv; do echo $filename; done`\n",
        "\n",
        "seasonal/autumn.csv\n",
        "\n",
        "seasonal/spring.csv\n",
        "\n",
        "seasonal/summer.csv\n",
        "\n",
        "seasonal/winter.csv"
      ],
      "metadata": {
        "id": "TmLGVhIHtdeE"
      }
    },
    {
      "cell_type": "code",
      "source": [
        ""
      ],
      "metadata": {
        "id": "04iZWIzGsxwc"
      },
      "execution_count": null,
      "outputs": []
    },
    {
      "cell_type": "markdown",
      "source": [
        "## loops with variable `$`\n",
        "\n",
        "`$ files=seasonal/*.csv`\n",
        "\n",
        "`$ for f in $files; do echo $f; done`\n",
        "\n",
        "\n",
        "---\n",
        "\n",
        "\n",
        "seasonal/autumn.csv\n",
        "\n",
        "seasonal/spring.csv\n",
        "\n",
        "seasonal/summer.csv\n",
        "\n",
        "seasonal/winter.csv"
      ],
      "metadata": {
        "id": "Oae3q-xftwt2"
      }
    },
    {
      "cell_type": "code",
      "source": [
        ""
      ],
      "metadata": {
        "id": "Okn35yHPt5Am"
      },
      "execution_count": null,
      "outputs": []
    },
    {
      "cell_type": "markdown",
      "source": [
        "## loops with pipe `|`\n",
        "\n",
        "`$ for file in seasonal/*.csv; `\n",
        "\n",
        "`do head -n 2 $file | tail -n 1; done`\n",
        "\n",
        "\n",
        "\n",
        "---\n",
        "2017-01-05,canine\n",
        "\n",
        "2017-01-25,wisdom\n",
        "\n",
        "2017-01-11,canine\n",
        "\n",
        "2017-01-03,bicuspid\n"
      ],
      "metadata": {
        "id": "dB0pz5SYuCxu"
      }
    },
    {
      "cell_type": "code",
      "source": [
        ""
      ],
      "metadata": {
        "id": "_ARZTBoruJJg"
      },
      "execution_count": null,
      "outputs": []
    },
    {
      "cell_type": "markdown",
      "source": [
        "`$ for file in seasonal/*.csv;` \n",
        "\n",
        "`do grep -h 2017-07 $file; done`\n",
        "\n",
        "\n",
        "\n",
        "---\n",
        "2017-07-10,incisor\n",
        "\n",
        "2017-07-10,wisdom\n",
        "\n",
        "2017-07-20,incisor\n",
        "\n",
        "...\n"
      ],
      "metadata": {
        "id": "bSv-KkIwuVeK"
      }
    },
    {
      "cell_type": "code",
      "source": [
        ""
      ],
      "metadata": {
        "id": "aXKeAztmuZkZ"
      },
      "execution_count": null,
      "outputs": []
    },
    {
      "cell_type": "markdown",
      "source": [
        "## Avoiding use space in file_name\n",
        "\n",
        "use ‘ or ” if there is a space in file_name\n",
        "\n",
        "`mv 'July 2017.csv' '2017 July data.csv'`"
      ],
      "metadata": {
        "id": "wg9w1Vzauet3"
      }
    },
    {
      "cell_type": "code",
      "source": [
        ""
      ],
      "metadata": {
        "id": "8KFTo7e6ufgC"
      },
      "execution_count": null,
      "outputs": []
    },
    {
      "cell_type": "markdown",
      "source": [
        "## loops with several commands\n",
        "\n",
        "Seperate commands with `;`\n",
        "\n",
        "`$ for f in seasonal/*.csv;` `do echo $f head -n 2 $f | tail -n 1;`\n",
        "\n",
        "`seasonal/autumn.csv head -n 2 seasonal/autumn.csv`\n",
        "\n",
        "`seasonal/spring.csv head -n 2 seasonal/spring.csv`\n",
        "\n",
        "`seasonal/summer.csv head -n 2 seasonal/summer.csv`\n",
        "\n",
        "`seasonal/winter.csv head -n 2 seasonal/winter.csv`\n",
        "\n"
      ],
      "metadata": {
        "id": "LoqtwHZQuzA7"
      }
    },
    {
      "cell_type": "markdown",
      "source": [
        "`$ for f in seasonal/*.csv; do echo $f; head -n 2 $f | tail -n 1`\n",
        "\n",
        "\n",
        "---\n",
        "\n",
        "\n",
        "\n",
        "seasonal/autumn.csv\n",
        "\n",
        "2017-01-05,canine\n",
        "\n",
        "seasonal/spring.csv\n",
        "\n",
        "2017-01-25,wisdom\n",
        "\n",
        "seasonal/summer.csv\n",
        "\n",
        "2017-01-11,canine\n",
        "\n",
        "seasonal/winter.csv\n",
        "\n",
        "2017-01-03,bicuspid\n"
      ],
      "metadata": {
        "id": "EmAD5eKlvIGm"
      }
    },
    {
      "cell_type": "code",
      "source": [
        ""
      ],
      "metadata": {
        "id": "sWhzc51zuzw4"
      },
      "execution_count": null,
      "outputs": []
    },
    {
      "cell_type": "markdown",
      "source": [
        "## Save history commands for future use\n",
        "\n",
        "`cp seasonal/s*.csv ~/`\n",
        "\n",
        "`grep -hv Tooth s*.csv > temp.csv`\n",
        "\n",
        "`history | tail -n 3 > steps.txt`\n",
        "\n",
        "`cat steps.txt`\n",
        "\n",
        "\n",
        "---\n",
        "\n",
        "9  cp seasonal/s*.csv ~/\n",
        "\n",
        "10 grep -hv Tooth s*.csv > temp.csv\n",
        "\n",
        "11 history | tail -n 3 > steps.txt"
      ],
      "metadata": {
        "id": "3YB8hIGfvo_D"
      }
    },
    {
      "cell_type": "code",
      "source": [
        ""
      ],
      "metadata": {
        "id": "XPifI6Tkvpm9"
      },
      "execution_count": null,
      "outputs": []
    },
    {
      "cell_type": "markdown",
      "source": [
        "## Run shell script using Bash\n",
        "\n",
        "run shell script using bash script.sh"
      ],
      "metadata": {
        "id": "6vLQQPp4wXOK"
      }
    },
    {
      "cell_type": "markdown",
      "source": [
        "`nano dates.sh`\n",
        "\n",
        "`cat dates.sh`\n",
        "\n",
        "\n",
        "---\n",
        "\n",
        "\n",
        "\n",
        "---\n",
        "\n",
        "\n",
        "`cut -d , -f 1 seasonal/*.csv`\n",
        "\n",
        "\n",
        "---\n",
        "\n",
        "\n",
        "`bash dates.sh`\n",
        "\n",
        "\n",
        "---\n",
        "\n",
        "Date\n",
        "\n",
        "2017-01-05\n",
        "\n",
        "2017-01-17\n",
        "\n",
        "2017-01-18\n",
        "\n",
        "..."
      ],
      "metadata": {
        "id": "p4MkAx2HwfJE"
      }
    },
    {
      "cell_type": "code",
      "source": [
        ""
      ],
      "metadata": {
        "id": "ag5RMCJewZwu"
      },
      "execution_count": null,
      "outputs": []
    },
    {
      "cell_type": "markdown",
      "source": [
        "## Save a script output into a file\n",
        "\n",
        "`nano teeth.sh`\n",
        "\n",
        "`cat teeth.sh` \n",
        "\n",
        "\n",
        "---\n",
        "\n",
        "\n",
        "`cut -d , -f 2 seasonal/*.csv | grep -v Tooth | sort | uniq -c`\n",
        "\n",
        "\n",
        "---\n",
        "\n",
        "\n",
        "` bash teeth.sh > teeth.out`\n",
        "\n",
        "`cat teeth.out`\n",
        "\n",
        "\n",
        "---\n",
        "\n",
        "\n",
        "15 bicuspid\n",
        "\n",
        "31 canine\n",
        "\n",
        "18 incisor\n",
        "\n",
        "11 molar\n",
        "\n",
        "17 wisdom"
      ],
      "metadata": {
        "id": "OJ4iZzBwxOyY"
      }
    },
    {
      "cell_type": "code",
      "source": [
        ""
      ],
      "metadata": {
        "id": "rwXBMJMuxayP"
      },
      "execution_count": null,
      "outputs": []
    },
    {
      "cell_type": "markdown",
      "source": [
        "## Pass filenames to scripts `$@`(Lamda, map.Apply function)\n",
        "\n",
        "if `unique-lines.sh` contains this:\n",
        "\n",
        "`sort $@ | uniq`\n",
        "\n",
        "then when you run:\n",
        "\n",
        "`bash unique-lines.sh seasonal/summer.csv`\n",
        "\n",
        "the shell replaces `$@` with `seasonal/summer.csv` and processes one file. \n",
        "\n",
        "\n",
        "\n",
        "---\n",
        "\n",
        "\n",
        "\n",
        "If you run this:\n",
        "\n",
        "`bash unique-lines.sh seasonal/summer.csv seasonal/autumn.csv`\n",
        "\n",
        "it processes two data files, and so on.\n",
        "\n",
        "\n",
        "---\n",
        "\n",
        "\n",
        "\n",
        "---\n",
        "\n",
        "\n",
        "\n",
        "`nano count-records.sh`\n",
        "\n",
        "` cat count-records.sh`\n",
        "\n",
        "\n",
        "---\n",
        "\n",
        "\n",
        "`tail -q -n +2 $@ | wc -l`\n",
        "\n",
        "\n",
        "---\n",
        "`bash count-records.sh seasonal/*.csv > num-records.out`\n",
        "\n",
        "`head num-records.out`\n",
        "\n",
        "\n",
        "\n",
        "---\n",
        "\n",
        "92\n",
        "\n",
        "\n"
      ],
      "metadata": {
        "id": "9cNleBC3xmB7"
      }
    },
    {
      "cell_type": "code",
      "source": [
        ""
      ],
      "metadata": {
        "id": "Feyzq7Svx06d"
      },
      "execution_count": null,
      "outputs": []
    },
    {
      "cell_type": "markdown",
      "source": [
        "## Command-line parameters\n",
        "\n",
        "As well as `$@`, the shell lets you use `$1`, `$2`, and so on to refer to specific command-line parameters.\n",
        "\n",
        "\n",
        "The script `get-field.sh` is supposed to take a filename, the number of the row to select, the\n",
        "number of the column to select, and print just that field from a CSV file.\n",
        "\n",
        "e.g. `bash get-field.sh seasonal/summer.csv 4 2`\n",
        "should select the **second field** from **line 4** of `seasonal/summer.csv.`\n",
        "\n",
        "\n",
        "---\n",
        "\n",
        "\n",
        "\n",
        "---\n",
        "\n"
      ],
      "metadata": {
        "id": "ZUiNbrLBzAm-"
      }
    },
    {
      "cell_type": "markdown",
      "source": [
        "`head -n $2 $1 | tail -n 1 | cut -d , -f $3`\n",
        "\n",
        "`bash get-field.sh seasonal/summer.csv 4 2`"
      ],
      "metadata": {
        "id": "LKxOzEWqzblZ"
      }
    },
    {
      "cell_type": "markdown",
      "source": [
        "## Bash Scripts with 2 or more lines\n",
        "\n",
        "`cat range.sh`\n",
        "\n",
        "\n",
        "---\n",
        "\n",
        "\n",
        "`wc -l $@ | grep -v total | sort -n | head -n 1`\n",
        "\n",
        "`wc -l $@ | grep -v total | sort -nr | head -n 1`\n",
        "\n",
        "\n",
        "---\n",
        "\n",
        "\n",
        "`bash range.sh seasonal/*.csv > range.out`\n",
        "\n",
        "`head range.out`\n",
        "\n",
        "\n",
        "---\n",
        "\n",
        "\n",
        "`21 seasonal/autumn.csv`\n",
        "\n",
        "`26 seasonal/winter.csv`"
      ],
      "metadata": {
        "id": "TemI9dYQ4Ubk"
      }
    },
    {
      "cell_type": "markdown",
      "source": [
        "## Bash Scripts with Loops\n",
        "\n",
        "`cat date-range.sh`\n",
        "\n",
        "\n",
        "---\n",
        "\n",
        "\n",
        "---\n",
        "\n",
        "\n",
        "\n",
        "# Print the first and last date from each data file.\n",
        "`for filename in $@`\n",
        "\n",
        "`do`\n",
        "\n",
        "`cut -d , -f 1 $filename | grep -v Date | sort | head -n 1`\n",
        "\n",
        "`cut -d , -f 1 $filename | grep -v Date | sort | tail -n 1`\n",
        "\n",
        "`done`\n",
        "\n",
        "\n",
        "\n",
        "---\n",
        "\n",
        "\n",
        "---\n",
        "\n",
        "\n",
        "`bash date-range.sh seasonal/*.csv`\n",
        "\n",
        "\n",
        "---\n",
        "\n",
        "\n",
        "2017-01-05\n",
        "\n",
        "2017-08-16\n",
        "\n",
        "2017-01-25\n",
        "\n",
        "...\n",
        "\n",
        "\n",
        "---\n",
        "\n",
        "\n",
        "`bash date-range.sh seasonal/*.csv | sort`\n",
        "\n",
        "\n",
        "\n",
        "---\n",
        "\n",
        "\n",
        "2017-01-03\n",
        "\n",
        "2017-01-05\n",
        "\n",
        "2017-01-11\n",
        "\n",
        "...\n"
      ],
      "metadata": {
        "id": "ybIW4bRU4nUw"
      }
    },
    {
      "cell_type": "code",
      "source": [
        ""
      ],
      "metadata": {
        "id": "WCz2rR1_zYZR"
      },
      "execution_count": null,
      "outputs": []
    }
  ]
}