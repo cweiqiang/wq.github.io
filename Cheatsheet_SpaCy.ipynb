{
  "nbformat": 4,
  "nbformat_minor": 0,
  "metadata": {
    "colab": {
      "name": "Cheatsheet-SpaCy.ipynb",
      "provenance": [],
      "collapsed_sections": [],
      "toc_visible": true,
      "authorship_tag": "ABX9TyNmFL0BiE8fYwU3sTLwgtDw",
      "include_colab_link": true
    },
    "kernelspec": {
      "name": "python3",
      "display_name": "Python 3"
    },
    "language_info": {
      "name": "python"
    }
  },
  "cells": [
    {
      "cell_type": "markdown",
      "metadata": {
        "id": "view-in-github",
        "colab_type": "text"
      },
      "source": [
        "<a href=\"https://colab.research.google.com/github/cweiqiang/wq.github.io/blob/main/Cheatsheet_SpaCy.ipynb\" target=\"_parent\"><img src=\"https://colab.research.google.com/assets/colab-badge.svg\" alt=\"Open In Colab\"/></a>"
      ]
    },
    {
      "cell_type": "markdown",
      "source": [
        "# Section 0: SpaCy\n",
        "\n",
        "spaCy is a free, open-source library for advanced Natural\n",
        " Language\n",
        "processing (NLP) in Python. It's designed\n",
        " specifically for production use and\n",
        "helps you build\n",
        " applications that process and \"understand\" large volumes of text. \n",
        "\n",
        "Documentation: [spacy.io](https://spacy.io/api/doc)\n",
        "\n",
        "`$ pip install spacy`\n",
        "\n",
        "`import spacy`"
      ],
      "metadata": {
        "id": "zLN0DQh0L7hI"
      }
    },
    {
      "cell_type": "code",
      "source": [
        "!pip install spacy"
      ],
      "metadata": {
        "colab": {
          "base_uri": "https://localhost:8080/"
        },
        "id": "ZIbOL5yfNI-5",
        "outputId": "707c3e17-e188-4816-defd-784f8f8cf6cb"
      },
      "execution_count": 1,
      "outputs": [
        {
          "output_type": "stream",
          "name": "stdout",
          "text": [
            "Requirement already satisfied: spacy in /usr/local/lib/python3.7/dist-packages (2.2.4)\n",
            "Requirement already satisfied: setuptools in /usr/local/lib/python3.7/dist-packages (from spacy) (57.4.0)\n",
            "Requirement already satisfied: numpy>=1.15.0 in /usr/local/lib/python3.7/dist-packages (from spacy) (1.21.6)\n",
            "Requirement already satisfied: cymem<2.1.0,>=2.0.2 in /usr/local/lib/python3.7/dist-packages (from spacy) (2.0.6)\n",
            "Requirement already satisfied: tqdm<5.0.0,>=4.38.0 in /usr/local/lib/python3.7/dist-packages (from spacy) (4.64.0)\n",
            "Requirement already satisfied: plac<1.2.0,>=0.9.6 in /usr/local/lib/python3.7/dist-packages (from spacy) (1.1.3)\n",
            "Requirement already satisfied: requests<3.0.0,>=2.13.0 in /usr/local/lib/python3.7/dist-packages (from spacy) (2.23.0)\n",
            "Requirement already satisfied: blis<0.5.0,>=0.4.0 in /usr/local/lib/python3.7/dist-packages (from spacy) (0.4.1)\n",
            "Requirement already satisfied: murmurhash<1.1.0,>=0.28.0 in /usr/local/lib/python3.7/dist-packages (from spacy) (1.0.7)\n",
            "Requirement already satisfied: preshed<3.1.0,>=3.0.2 in /usr/local/lib/python3.7/dist-packages (from spacy) (3.0.6)\n",
            "Requirement already satisfied: srsly<1.1.0,>=1.0.2 in /usr/local/lib/python3.7/dist-packages (from spacy) (1.0.5)\n",
            "Requirement already satisfied: catalogue<1.1.0,>=0.0.7 in /usr/local/lib/python3.7/dist-packages (from spacy) (1.0.0)\n",
            "Requirement already satisfied: wasabi<1.1.0,>=0.4.0 in /usr/local/lib/python3.7/dist-packages (from spacy) (0.9.1)\n",
            "Requirement already satisfied: thinc==7.4.0 in /usr/local/lib/python3.7/dist-packages (from spacy) (7.4.0)\n",
            "Requirement already satisfied: importlib-metadata>=0.20 in /usr/local/lib/python3.7/dist-packages (from catalogue<1.1.0,>=0.0.7->spacy) (4.11.3)\n",
            "Requirement already satisfied: typing-extensions>=3.6.4 in /usr/local/lib/python3.7/dist-packages (from importlib-metadata>=0.20->catalogue<1.1.0,>=0.0.7->spacy) (4.2.0)\n",
            "Requirement already satisfied: zipp>=0.5 in /usr/local/lib/python3.7/dist-packages (from importlib-metadata>=0.20->catalogue<1.1.0,>=0.0.7->spacy) (3.8.0)\n",
            "Requirement already satisfied: urllib3!=1.25.0,!=1.25.1,<1.26,>=1.21.1 in /usr/local/lib/python3.7/dist-packages (from requests<3.0.0,>=2.13.0->spacy) (1.24.3)\n",
            "Requirement already satisfied: certifi>=2017.4.17 in /usr/local/lib/python3.7/dist-packages (from requests<3.0.0,>=2.13.0->spacy) (2021.10.8)\n",
            "Requirement already satisfied: idna<3,>=2.5 in /usr/local/lib/python3.7/dist-packages (from requests<3.0.0,>=2.13.0->spacy) (2.10)\n",
            "Requirement already satisfied: chardet<4,>=3.0.2 in /usr/local/lib/python3.7/dist-packages (from requests<3.0.0,>=2.13.0->spacy) (3.0.4)\n"
          ]
        }
      ]
    },
    {
      "cell_type": "code",
      "source": [
        "import spacy"
      ],
      "metadata": {
        "id": "5F_2q9VdNLd0"
      },
      "execution_count": 2,
      "outputs": []
    },
    {
      "cell_type": "markdown",
      "source": [
        "# Section 1: Statistical models"
      ],
      "metadata": {
        "id": "Vs6K4qBYMJ5o"
      }
    },
    {
      "cell_type": "markdown",
      "source": [
        "## Download statistical models\n",
        "\n",
        "Predict part-of-speech tags, dependency labels, named entities and more. See here for available models: `spacy.io/models`\n"
      ],
      "metadata": {
        "id": "eCCCz0GkMN6o"
      }
    },
    {
      "cell_type": "code",
      "execution_count": 3,
      "metadata": {
        "colab": {
          "base_uri": "https://localhost:8080/"
        },
        "id": "b7leyMs8KVbw",
        "outputId": "5b5e8141-5e15-4839-b910-31b1d9f8c244"
      },
      "outputs": [
        {
          "output_type": "stream",
          "name": "stdout",
          "text": [
            "Collecting en_core_web_sm==2.2.5\n",
            "  Downloading https://github.com/explosion/spacy-models/releases/download/en_core_web_sm-2.2.5/en_core_web_sm-2.2.5.tar.gz (12.0 MB)\n",
            "\u001b[K     |████████████████████████████████| 12.0 MB 7.5 MB/s \n",
            "\u001b[?25hRequirement already satisfied: spacy>=2.2.2 in /usr/local/lib/python3.7/dist-packages (from en_core_web_sm==2.2.5) (2.2.4)\n",
            "Requirement already satisfied: setuptools in /usr/local/lib/python3.7/dist-packages (from spacy>=2.2.2->en_core_web_sm==2.2.5) (57.4.0)\n",
            "Requirement already satisfied: murmurhash<1.1.0,>=0.28.0 in /usr/local/lib/python3.7/dist-packages (from spacy>=2.2.2->en_core_web_sm==2.2.5) (1.0.7)\n",
            "Requirement already satisfied: srsly<1.1.0,>=1.0.2 in /usr/local/lib/python3.7/dist-packages (from spacy>=2.2.2->en_core_web_sm==2.2.5) (1.0.5)\n",
            "Requirement already satisfied: catalogue<1.1.0,>=0.0.7 in /usr/local/lib/python3.7/dist-packages (from spacy>=2.2.2->en_core_web_sm==2.2.5) (1.0.0)\n",
            "Requirement already satisfied: wasabi<1.1.0,>=0.4.0 in /usr/local/lib/python3.7/dist-packages (from spacy>=2.2.2->en_core_web_sm==2.2.5) (0.9.1)\n",
            "Requirement already satisfied: cymem<2.1.0,>=2.0.2 in /usr/local/lib/python3.7/dist-packages (from spacy>=2.2.2->en_core_web_sm==2.2.5) (2.0.6)\n",
            "Requirement already satisfied: preshed<3.1.0,>=3.0.2 in /usr/local/lib/python3.7/dist-packages (from spacy>=2.2.2->en_core_web_sm==2.2.5) (3.0.6)\n",
            "Requirement already satisfied: blis<0.5.0,>=0.4.0 in /usr/local/lib/python3.7/dist-packages (from spacy>=2.2.2->en_core_web_sm==2.2.5) (0.4.1)\n",
            "Requirement already satisfied: requests<3.0.0,>=2.13.0 in /usr/local/lib/python3.7/dist-packages (from spacy>=2.2.2->en_core_web_sm==2.2.5) (2.23.0)\n",
            "Requirement already satisfied: numpy>=1.15.0 in /usr/local/lib/python3.7/dist-packages (from spacy>=2.2.2->en_core_web_sm==2.2.5) (1.21.6)\n",
            "Requirement already satisfied: thinc==7.4.0 in /usr/local/lib/python3.7/dist-packages (from spacy>=2.2.2->en_core_web_sm==2.2.5) (7.4.0)\n",
            "Requirement already satisfied: plac<1.2.0,>=0.9.6 in /usr/local/lib/python3.7/dist-packages (from spacy>=2.2.2->en_core_web_sm==2.2.5) (1.1.3)\n",
            "Requirement already satisfied: tqdm<5.0.0,>=4.38.0 in /usr/local/lib/python3.7/dist-packages (from spacy>=2.2.2->en_core_web_sm==2.2.5) (4.64.0)\n",
            "Requirement already satisfied: importlib-metadata>=0.20 in /usr/local/lib/python3.7/dist-packages (from catalogue<1.1.0,>=0.0.7->spacy>=2.2.2->en_core_web_sm==2.2.5) (4.11.3)\n",
            "Requirement already satisfied: zipp>=0.5 in /usr/local/lib/python3.7/dist-packages (from importlib-metadata>=0.20->catalogue<1.1.0,>=0.0.7->spacy>=2.2.2->en_core_web_sm==2.2.5) (3.8.0)\n",
            "Requirement already satisfied: typing-extensions>=3.6.4 in /usr/local/lib/python3.7/dist-packages (from importlib-metadata>=0.20->catalogue<1.1.0,>=0.0.7->spacy>=2.2.2->en_core_web_sm==2.2.5) (4.2.0)\n",
            "Requirement already satisfied: chardet<4,>=3.0.2 in /usr/local/lib/python3.7/dist-packages (from requests<3.0.0,>=2.13.0->spacy>=2.2.2->en_core_web_sm==2.2.5) (3.0.4)\n",
            "Requirement already satisfied: idna<3,>=2.5 in /usr/local/lib/python3.7/dist-packages (from requests<3.0.0,>=2.13.0->spacy>=2.2.2->en_core_web_sm==2.2.5) (2.10)\n",
            "Requirement already satisfied: certifi>=2017.4.17 in /usr/local/lib/python3.7/dist-packages (from requests<3.0.0,>=2.13.0->spacy>=2.2.2->en_core_web_sm==2.2.5) (2021.10.8)\n",
            "Requirement already satisfied: urllib3!=1.25.0,!=1.25.1,<1.26,>=1.21.1 in /usr/local/lib/python3.7/dist-packages (from requests<3.0.0,>=2.13.0->spacy>=2.2.2->en_core_web_sm==2.2.5) (1.24.3)\n",
            "\u001b[38;5;2m✔ Download and installation successful\u001b[0m\n",
            "You can now load the model via spacy.load('en_core_web_sm')\n"
          ]
        }
      ],
      "source": [
        "!python -m spacy download en_core_web_sm"
      ]
    },
    {
      "cell_type": "markdown",
      "source": [
        "## Check that your installed models are up to date"
      ],
      "metadata": {
        "id": "xhuxi2yTManx"
      }
    },
    {
      "cell_type": "code",
      "source": [
        "!python -m spacy validate"
      ],
      "metadata": {
        "colab": {
          "base_uri": "https://localhost:8080/"
        },
        "id": "B75j1zEyMdxy",
        "outputId": "1d97dbfe-ee2a-4854-eb41-cc6cc242eb0e"
      },
      "execution_count": 4,
      "outputs": [
        {
          "output_type": "stream",
          "name": "stdout",
          "text": [
            "\r⠙ Loading compatibility table...\r\u001b[2K\u001b[38;5;2m✔ Loaded compatibility table\u001b[0m\n",
            "\u001b[1m\n",
            "====================== Installed models (spaCy v2.2.4) ======================\u001b[0m\n",
            "\u001b[38;5;4mℹ spaCy installation: /usr/local/lib/python3.7/dist-packages/spacy\u001b[0m\n",
            "\n",
            "TYPE      NAME             MODEL            VERSION                            \n",
            "package   en-core-web-sm   en_core_web_sm   \u001b[38;5;2m2.2.5\u001b[0m   \u001b[38;5;2m✔\u001b[0m\n",
            "link      en               en_core_web_sm   \u001b[38;5;2m2.2.5\u001b[0m   \u001b[38;5;2m✔\u001b[0m\n",
            "\n"
          ]
        }
      ]
    },
    {
      "cell_type": "markdown",
      "source": [
        "## Loading statistical models"
      ],
      "metadata": {
        "id": "7uhdvbNAMmYp"
      }
    },
    {
      "cell_type": "code",
      "source": [
        "import spacy\n",
        "nlp = spacy.load(\"en_core_web_sm\") # Load the installed model \"en_core_web_sm\""
      ],
      "metadata": {
        "id": "2kAoQKVxMm9T"
      },
      "execution_count": 5,
      "outputs": []
    },
    {
      "cell_type": "markdown",
      "source": [
        "# Section 2: Documents and tokens"
      ],
      "metadata": {
        "id": "JZRarkFJMree"
      }
    },
    {
      "cell_type": "markdown",
      "source": [
        "## Processing text\n",
        "\n",
        "Processing text with the nlp object returns a Doc object\n",
        " that holds all \n",
        "\n",
        "information about the tokens, their linguistic\n",
        " features and their relationships"
      ],
      "metadata": {
        "id": "he-_pPdfMvS4"
      }
    },
    {
      "cell_type": "code",
      "source": [
        "doc = nlp(\"This is a text\")"
      ],
      "metadata": {
        "id": "d4XpLRlEMuBU"
      },
      "execution_count": 6,
      "outputs": []
    },
    {
      "cell_type": "markdown",
      "source": [
        "## Accessing token attributes"
      ],
      "metadata": {
        "id": "ntjRV7uAM-Dj"
      }
    },
    {
      "cell_type": "code",
      "source": [
        "doc = nlp(\"This is a text\")\n",
        "[token.text for token in doc] #Token texts"
      ],
      "metadata": {
        "colab": {
          "base_uri": "https://localhost:8080/"
        },
        "id": "hTj_K6fhNAIn",
        "outputId": "948685ae-d38a-40e7-db09-872ba88f871a"
      },
      "execution_count": 7,
      "outputs": [
        {
          "output_type": "execute_result",
          "data": {
            "text/plain": [
              "['This', 'is', 'a', 'text']"
            ]
          },
          "metadata": {},
          "execution_count": 7
        }
      ]
    },
    {
      "cell_type": "markdown",
      "source": [
        "# Section 3: Label explanations"
      ],
      "metadata": {
        "id": "K4jS97OZNXXL"
      }
    },
    {
      "cell_type": "code",
      "source": [
        "spacy.explain(\"RB\")"
      ],
      "metadata": {
        "colab": {
          "base_uri": "https://localhost:8080/",
          "height": 35
        },
        "id": "aIHDlVpeNFQz",
        "outputId": "472028b6-37ec-4f07-a2de-1c6c53fc374b"
      },
      "execution_count": 8,
      "outputs": [
        {
          "output_type": "execute_result",
          "data": {
            "text/plain": [
              "'adverb'"
            ],
            "application/vnd.google.colaboratory.intrinsic+json": {
              "type": "string"
            }
          },
          "metadata": {},
          "execution_count": 8
        }
      ]
    },
    {
      "cell_type": "code",
      "source": [
        "spacy.explain(\"GPE\")"
      ],
      "metadata": {
        "colab": {
          "base_uri": "https://localhost:8080/",
          "height": 35
        },
        "id": "SfJwNRt2Na4j",
        "outputId": "dab7359b-45f8-4435-8745-6b53c2eedde5"
      },
      "execution_count": 9,
      "outputs": [
        {
          "output_type": "execute_result",
          "data": {
            "text/plain": [
              "'Countries, cities, states'"
            ],
            "application/vnd.google.colaboratory.intrinsic+json": {
              "type": "string"
            }
          },
          "metadata": {},
          "execution_count": 9
        }
      ]
    },
    {
      "cell_type": "markdown",
      "source": [
        "# Section 4: Spans"
      ],
      "metadata": {
        "id": "qHIx_bKcNh89"
      }
    },
    {
      "cell_type": "markdown",
      "source": [
        "## Accessing spans\n",
        "\n",
        "Span indices are exclusive. So `doc[2:4]` is a span starting at\n",
        " token 2, up to – but not including! – token 4."
      ],
      "metadata": {
        "id": "5u1FxKPoNkkl"
      }
    },
    {
      "cell_type": "code",
      "source": [
        "doc = nlp(\"This is a text\")\n",
        "span = doc[2:4]\n",
        "span.text"
      ],
      "metadata": {
        "colab": {
          "base_uri": "https://localhost:8080/",
          "height": 35
        },
        "id": "WKz-ffkXNc7H",
        "outputId": "b282fd82-cd11-4c42-e6af-f37ecedb0614"
      },
      "execution_count": 10,
      "outputs": [
        {
          "output_type": "execute_result",
          "data": {
            "text/plain": [
              "'a text'"
            ],
            "application/vnd.google.colaboratory.intrinsic+json": {
              "type": "string"
            }
          },
          "metadata": {},
          "execution_count": 10
        }
      ]
    },
    {
      "cell_type": "markdown",
      "source": [
        "## Creating a span manually"
      ],
      "metadata": {
        "id": "44LnWHPdNshQ"
      }
    },
    {
      "cell_type": "code",
      "source": [
        "from spacy.tokens import Span #Import the Span object\n",
        "\n",
        "doc = nlp(\"I live in New York\") #Create a Doc object\n",
        "\n",
        "span = Span(doc, 3, 5, label=\"GPE\") #Span for \"New York\" with label GPE (geopolitical)\n",
        "\n",
        "span.text"
      ],
      "metadata": {
        "colab": {
          "base_uri": "https://localhost:8080/",
          "height": 35
        },
        "id": "6mKj2eHqNtAg",
        "outputId": "491a4c29-b55c-415e-9ae5-2e2b95ce59e7"
      },
      "execution_count": 11,
      "outputs": [
        {
          "output_type": "execute_result",
          "data": {
            "text/plain": [
              "'New York'"
            ],
            "application/vnd.google.colaboratory.intrinsic+json": {
              "type": "string"
            }
          },
          "metadata": {},
          "execution_count": 11
        }
      ]
    },
    {
      "cell_type": "markdown",
      "source": [
        "# Section 5: Linguistic features\n",
        "\n",
        "Attributes return label IDs. For string labels, use the attributes with an underscore. For example, `token.pos_`"
      ],
      "metadata": {
        "id": "IBaNPRWkNy5q"
      }
    },
    {
      "cell_type": "markdown",
      "source": [
        "## Part-of-speech tags - Predicted by Statistical model"
      ],
      "metadata": {
        "id": "Efjyy3_1N8RF"
      }
    },
    {
      "cell_type": "code",
      "source": [
        "doc = nlp(\"This is a text.\") \n",
        "[token.pos_ for token in doc] #Coarse-grained part-of-speech tags"
      ],
      "metadata": {
        "colab": {
          "base_uri": "https://localhost:8080/"
        },
        "id": "GR2Nlr8-Nz9p",
        "outputId": "0cf587de-e3c8-4a23-bc71-492e3a43d8a4"
      },
      "execution_count": 12,
      "outputs": [
        {
          "output_type": "execute_result",
          "data": {
            "text/plain": [
              "['DET', 'AUX', 'DET', 'NOUN', 'PUNCT']"
            ]
          },
          "metadata": {},
          "execution_count": 12
        }
      ]
    },
    {
      "cell_type": "code",
      "source": [
        "[token.tag_ for token in doc] #Fine-grained part-of-speech tags"
      ],
      "metadata": {
        "colab": {
          "base_uri": "https://localhost:8080/"
        },
        "id": "CgyibF7SOD3B",
        "outputId": "bf18389d-cf9d-45fe-9f91-a44634779400"
      },
      "execution_count": 13,
      "outputs": [
        {
          "output_type": "execute_result",
          "data": {
            "text/plain": [
              "['DT', 'VBZ', 'DT', 'NN', '.']"
            ]
          },
          "metadata": {},
          "execution_count": 13
        }
      ]
    },
    {
      "cell_type": "markdown",
      "source": [
        "## Syntactic dependencies  - Predicted by Statistical model"
      ],
      "metadata": {
        "id": "q4_8aMYcOLZY"
      }
    },
    {
      "cell_type": "code",
      "source": [
        "doc = nlp(\"This is a text.\")\n",
        "[token.dep_ for token in doc] #Dependency labels"
      ],
      "metadata": {
        "colab": {
          "base_uri": "https://localhost:8080/"
        },
        "id": "0gpMl8XrOPCE",
        "outputId": "7965f3c9-93aa-41bc-aaf6-9f0b33d3207a"
      },
      "execution_count": 14,
      "outputs": [
        {
          "output_type": "execute_result",
          "data": {
            "text/plain": [
              "['nsubj', 'ROOT', 'det', 'attr', 'punct']"
            ]
          },
          "metadata": {},
          "execution_count": 14
        }
      ]
    },
    {
      "cell_type": "code",
      "source": [
        "[token.head.text for token in doc] #Syntactic head token (governor)"
      ],
      "metadata": {
        "colab": {
          "base_uri": "https://localhost:8080/"
        },
        "id": "8r1oRhTgOSIu",
        "outputId": "3b7fcab7-fe63-461f-ae95-8a6d0de181cb"
      },
      "execution_count": 15,
      "outputs": [
        {
          "output_type": "execute_result",
          "data": {
            "text/plain": [
              "['is', 'is', 'text', 'is', 'is']"
            ]
          },
          "metadata": {},
          "execution_count": 15
        }
      ]
    },
    {
      "cell_type": "markdown",
      "source": [
        "## Named entities - Predicted by Statistical model"
      ],
      "metadata": {
        "id": "_3Grz6-xOWJq"
      }
    },
    {
      "cell_type": "code",
      "source": [
        "doc = nlp(\"Larry Page founded Google\")\n",
        "[(ent.text, ent.label_) for ent in doc.ents] #Text and label of named entity span"
      ],
      "metadata": {
        "colab": {
          "base_uri": "https://localhost:8080/"
        },
        "id": "yy4sO4SqOYmX",
        "outputId": "c473678b-90f3-4b6b-e0f9-1a830679e10b"
      },
      "execution_count": 16,
      "outputs": [
        {
          "output_type": "execute_result",
          "data": {
            "text/plain": [
              "[('Larry Page', 'PERSON'), ('Google', 'ORG')]"
            ]
          },
          "metadata": {},
          "execution_count": 16
        }
      ]
    },
    {
      "cell_type": "markdown",
      "source": [
        "# Section 6: Pipeline components\n",
        "\n",
        "Functions that take a Doc object, modify it and return it\n",
        "\n",
        "Text --> nlp (tokenizer) ---> (tagger) --> (Parser) --> (NER) --> ... -->Doc"
      ],
      "metadata": {
        "id": "QqB7eujkOjRJ"
      }
    },
    {
      "cell_type": "markdown",
      "source": [
        "## Pipeline information"
      ],
      "metadata": {
        "id": "jZLZwa8bO6Ae"
      }
    },
    {
      "cell_type": "code",
      "source": [
        "nlp = spacy.load(\"en_core_web_sm\")\n",
        "nlp.pipe_names"
      ],
      "metadata": {
        "colab": {
          "base_uri": "https://localhost:8080/"
        },
        "id": "9L1f_M11Obmq",
        "outputId": "6a5c53e2-a509-40b7-9dcc-6c024e03d31c"
      },
      "execution_count": 17,
      "outputs": [
        {
          "output_type": "execute_result",
          "data": {
            "text/plain": [
              "['tagger', 'parser', 'ner']"
            ]
          },
          "metadata": {},
          "execution_count": 17
        }
      ]
    },
    {
      "cell_type": "code",
      "source": [
        "nlp.pipeline"
      ],
      "metadata": {
        "colab": {
          "base_uri": "https://localhost:8080/"
        },
        "id": "g1oiLgVnPBQo",
        "outputId": "1b4de49b-3b44-4bf2-9d2e-24fef699d2f3"
      },
      "execution_count": 18,
      "outputs": [
        {
          "output_type": "execute_result",
          "data": {
            "text/plain": [
              "[('tagger', <spacy.pipeline.pipes.Tagger at 0x7f6bf1103450>),\n",
              " ('parser', <spacy.pipeline.pipes.DependencyParser at 0x7f6bf114cd70>),\n",
              " ('ner', <spacy.pipeline.pipes.EntityRecognizer at 0x7f6bf114c9f0>)]"
            ]
          },
          "metadata": {},
          "execution_count": 18
        }
      ]
    },
    {
      "cell_type": "markdown",
      "source": [
        "## Custom components"
      ],
      "metadata": {
        "id": "nqV5IdNLPDiF"
      }
    },
    {
      "cell_type": "code",
      "source": [
        "def custom_component(doc): #Function that modifies the doc and returns it\n",
        "    print(\" \")\n",
        "    return doc\n",
        "\n",
        "nlp.add_pipe(custom_component, first=True) #Add the component first in the pipeline"
      ],
      "metadata": {
        "id": "bciH1ZasPEKi"
      },
      "execution_count": 33,
      "outputs": []
    },
    {
      "cell_type": "code",
      "source": [
        "nlp.remove_pipe('custom_component') #Add the component first in the pipeline"
      ],
      "metadata": {
        "colab": {
          "base_uri": "https://localhost:8080/"
        },
        "id": "n5siJWPqRoPq",
        "outputId": "ada2684f-a6b6-497e-b486-c5b787fbf1b2"
      },
      "execution_count": 34,
      "outputs": [
        {
          "output_type": "execute_result",
          "data": {
            "text/plain": [
              "('custom_component', <function __main__.custom_component>)"
            ]
          },
          "metadata": {},
          "execution_count": 34
        }
      ]
    },
    {
      "cell_type": "markdown",
      "source": [
        "Components can be added first , last (default), or\n",
        " before or after an existing component."
      ],
      "metadata": {
        "id": "5A8Wma1ZPPdV"
      }
    },
    {
      "cell_type": "markdown",
      "source": [
        "# Section 7: Visualizing\n",
        "\n",
        "If you're in a Jupyter notebook, use `displacy.render` otherwise, \n",
        "\n",
        "use `displacy.serve` to start a web server and\n",
        " show the visualization in your browser."
      ],
      "metadata": {
        "id": "ySb65eiSPWkW"
      }
    },
    {
      "cell_type": "code",
      "source": [
        "from spacy import displacy"
      ],
      "metadata": {
        "id": "kxzQ76YWPP0f"
      },
      "execution_count": 20,
      "outputs": []
    },
    {
      "cell_type": "markdown",
      "source": [
        "## Visualize dependencies"
      ],
      "metadata": {
        "id": "mTyfLjq6PhKN"
      }
    },
    {
      "cell_type": "code",
      "source": [
        "doc = nlp(\"This is a sentence\")\n",
        "# displacy.render(doc, style=\"dep\") for Jupyter notebook\n",
        "displacy.render(doc, style=\"dep\", jupyter=True, options={'distance': 90}) \n",
        "# For Google Colab"
      ],
      "metadata": {
        "colab": {
          "base_uri": "https://localhost:8080/",
          "height": 248
        },
        "id": "bsot1F0nPhsq",
        "outputId": "7df5b74f-a4f2-4026-a87c-38d3e43f22a2"
      },
      "execution_count": 35,
      "outputs": [
        {
          "output_type": "display_data",
          "data": {
            "text/plain": [
              "<IPython.core.display.HTML object>"
            ],
            "text/html": [
              "<span class=\"tex2jax_ignore\"><svg xmlns=\"http://www.w3.org/2000/svg\" xmlns:xlink=\"http://www.w3.org/1999/xlink\" xml:lang=\"en\" id=\"4bacdf58e6d04bb79310cddab1a60a92-0\" class=\"displacy\" width=\"410\" height=\"227.0\" direction=\"ltr\" style=\"max-width: none; height: 227.0px; color: #000000; background: #ffffff; font-family: Arial; direction: ltr\">\n",
              "<text class=\"displacy-token\" fill=\"currentColor\" text-anchor=\"middle\" y=\"137.0\">\n",
              "    <tspan class=\"displacy-word\" fill=\"currentColor\" x=\"50\">This</tspan>\n",
              "    <tspan class=\"displacy-tag\" dy=\"2em\" fill=\"currentColor\" x=\"50\">DET</tspan>\n",
              "</text>\n",
              "\n",
              "<text class=\"displacy-token\" fill=\"currentColor\" text-anchor=\"middle\" y=\"137.0\">\n",
              "    <tspan class=\"displacy-word\" fill=\"currentColor\" x=\"140\">is</tspan>\n",
              "    <tspan class=\"displacy-tag\" dy=\"2em\" fill=\"currentColor\" x=\"140\">AUX</tspan>\n",
              "</text>\n",
              "\n",
              "<text class=\"displacy-token\" fill=\"currentColor\" text-anchor=\"middle\" y=\"137.0\">\n",
              "    <tspan class=\"displacy-word\" fill=\"currentColor\" x=\"230\">a</tspan>\n",
              "    <tspan class=\"displacy-tag\" dy=\"2em\" fill=\"currentColor\" x=\"230\">DET</tspan>\n",
              "</text>\n",
              "\n",
              "<text class=\"displacy-token\" fill=\"currentColor\" text-anchor=\"middle\" y=\"137.0\">\n",
              "    <tspan class=\"displacy-word\" fill=\"currentColor\" x=\"320\">sentence</tspan>\n",
              "    <tspan class=\"displacy-tag\" dy=\"2em\" fill=\"currentColor\" x=\"320\">NOUN</tspan>\n",
              "</text>\n",
              "\n",
              "<g class=\"displacy-arrow\">\n",
              "    <path class=\"displacy-arc\" id=\"arrow-4bacdf58e6d04bb79310cddab1a60a92-0-0\" stroke-width=\"2px\" d=\"M70,92.0 C70,47.0 135.0,47.0 135.0,92.0\" fill=\"none\" stroke=\"currentColor\"/>\n",
              "    <text dy=\"1.25em\" style=\"font-size: 0.8em; letter-spacing: 1px\">\n",
              "        <textPath xlink:href=\"#arrow-4bacdf58e6d04bb79310cddab1a60a92-0-0\" class=\"displacy-label\" startOffset=\"50%\" side=\"left\" fill=\"currentColor\" text-anchor=\"middle\">nsubj</textPath>\n",
              "    </text>\n",
              "    <path class=\"displacy-arrowhead\" d=\"M70,94.0 L62,82.0 78,82.0\" fill=\"currentColor\"/>\n",
              "</g>\n",
              "\n",
              "<g class=\"displacy-arrow\">\n",
              "    <path class=\"displacy-arc\" id=\"arrow-4bacdf58e6d04bb79310cddab1a60a92-0-1\" stroke-width=\"2px\" d=\"M250,92.0 C250,47.0 315.0,47.0 315.0,92.0\" fill=\"none\" stroke=\"currentColor\"/>\n",
              "    <text dy=\"1.25em\" style=\"font-size: 0.8em; letter-spacing: 1px\">\n",
              "        <textPath xlink:href=\"#arrow-4bacdf58e6d04bb79310cddab1a60a92-0-1\" class=\"displacy-label\" startOffset=\"50%\" side=\"left\" fill=\"currentColor\" text-anchor=\"middle\">det</textPath>\n",
              "    </text>\n",
              "    <path class=\"displacy-arrowhead\" d=\"M250,94.0 L242,82.0 258,82.0\" fill=\"currentColor\"/>\n",
              "</g>\n",
              "\n",
              "<g class=\"displacy-arrow\">\n",
              "    <path class=\"displacy-arc\" id=\"arrow-4bacdf58e6d04bb79310cddab1a60a92-0-2\" stroke-width=\"2px\" d=\"M160,92.0 C160,2.0 320.0,2.0 320.0,92.0\" fill=\"none\" stroke=\"currentColor\"/>\n",
              "    <text dy=\"1.25em\" style=\"font-size: 0.8em; letter-spacing: 1px\">\n",
              "        <textPath xlink:href=\"#arrow-4bacdf58e6d04bb79310cddab1a60a92-0-2\" class=\"displacy-label\" startOffset=\"50%\" side=\"left\" fill=\"currentColor\" text-anchor=\"middle\">attr</textPath>\n",
              "    </text>\n",
              "    <path class=\"displacy-arrowhead\" d=\"M320.0,94.0 L328.0,82.0 312.0,82.0\" fill=\"currentColor\"/>\n",
              "</g>\n",
              "</svg></span>"
            ]
          },
          "metadata": {}
        }
      ]
    },
    {
      "cell_type": "markdown",
      "source": [
        "## Visualize named entities"
      ],
      "metadata": {
        "id": "drj2qUk_QFtF"
      }
    },
    {
      "cell_type": "code",
      "source": [
        "doc = nlp(\"Larry Page founded Google\")\n",
        "\n",
        "displacy.render(doc, style=\"ent\", jupyter=True, options={'distance': 90})"
      ],
      "metadata": {
        "colab": {
          "base_uri": "https://localhost:8080/",
          "height": 52
        },
        "id": "oIFAlcm5P4CU",
        "outputId": "4513ee7e-7f1b-45e8-d1d4-bdedd3deba45"
      },
      "execution_count": 36,
      "outputs": [
        {
          "output_type": "display_data",
          "data": {
            "text/plain": [
              "<IPython.core.display.HTML object>"
            ],
            "text/html": [
              "<span class=\"tex2jax_ignore\"><div class=\"entities\" style=\"line-height: 2.5; direction: ltr\">\n",
              "<mark class=\"entity\" style=\"background: #aa9cfc; padding: 0.45em 0.6em; margin: 0 0.25em; line-height: 1; border-radius: 0.35em;\">\n",
              "    Larry Page\n",
              "    <span style=\"font-size: 0.8em; font-weight: bold; line-height: 1; border-radius: 0.35em; text-transform: uppercase; vertical-align: middle; margin-left: 0.5rem\">PERSON</span>\n",
              "</mark>\n",
              " founded \n",
              "<mark class=\"entity\" style=\"background: #7aecec; padding: 0.45em 0.6em; margin: 0 0.25em; line-height: 1; border-radius: 0.35em;\">\n",
              "    Google\n",
              "    <span style=\"font-size: 0.8em; font-weight: bold; line-height: 1; border-radius: 0.35em; text-transform: uppercase; vertical-align: middle; margin-left: 0.5rem\">ORG</span>\n",
              "</mark>\n",
              "</div></span>"
            ]
          },
          "metadata": {}
        }
      ]
    },
    {
      "cell_type": "markdown",
      "source": [
        "# Section 8: Word vectors and similarity\n",
        "\n",
        "To use word vectors, you need to install the larger models\n",
        " ending in md or lg , for example `en_core_web_lg` ."
      ],
      "metadata": {
        "id": "Yv7EXBRkQRZY"
      }
    },
    {
      "cell_type": "markdown",
      "source": [
        "## Comparing similarity"
      ],
      "metadata": {
        "id": "STEUFnhfQZ3J"
      }
    },
    {
      "cell_type": "code",
      "source": [
        "doc1 = nlp(\"I like cats\")\n",
        "doc2 = nlp(\"I like dogs\")\n",
        "doc1.similarity(doc2) #Compare 2 documents"
      ],
      "metadata": {
        "colab": {
          "base_uri": "https://localhost:8080/"
        },
        "id": "tPg3DOn5QSn2",
        "outputId": "6ad6cca6-0551-4390-df89-511b8d4723bc"
      },
      "execution_count": 37,
      "outputs": [
        {
          "output_type": "stream",
          "name": "stderr",
          "text": [
            "/usr/lib/python3.7/runpy.py:193: ModelsWarning: [W007] The model you're using has no word vectors loaded, so the result of the Doc.similarity method will be based on the tagger, parser and NER, which may not give useful similarity judgements. This may happen if you're using one of the small models, e.g. `en_core_web_sm`, which don't ship with word vectors and only use context-sensitive tensors. You can always add your own word vectors, or use one of the larger models instead if available.\n",
            "  \"__main__\", mod_spec)\n"
          ]
        },
        {
          "output_type": "execute_result",
          "data": {
            "text/plain": [
              "0.91780747964994"
            ]
          },
          "metadata": {},
          "execution_count": 37
        }
      ]
    },
    {
      "cell_type": "code",
      "source": [
        "doc1[2].similarity(doc2[2]) #Compare 2 tokens"
      ],
      "metadata": {
        "colab": {
          "base_uri": "https://localhost:8080/"
        },
        "id": "yEjZ3isAQ5YF",
        "outputId": "091b3756-5ae3-4c3c-9033-d9119fe88010"
      },
      "execution_count": 27,
      "outputs": [
        {
          "output_type": "stream",
          "name": "stderr",
          "text": [
            "/usr/lib/python3.7/runpy.py:193: ModelsWarning: [W007] The model you're using has no word vectors loaded, so the result of the Token.similarity method will be based on the tagger, parser and NER, which may not give useful similarity judgements. This may happen if you're using one of the small models, e.g. `en_core_web_sm`, which don't ship with word vectors and only use context-sensitive tensors. You can always add your own word vectors, or use one of the larger models instead if available.\n",
            "  \"__main__\", mod_spec)\n"
          ]
        },
        {
          "output_type": "execute_result",
          "data": {
            "text/plain": [
              "0.74924546"
            ]
          },
          "metadata": {},
          "execution_count": 27
        }
      ]
    },
    {
      "cell_type": "code",
      "source": [
        "doc1[0].similarity(doc2[1:3]) # Comparetokens and spans"
      ],
      "metadata": {
        "colab": {
          "base_uri": "https://localhost:8080/"
        },
        "id": "8YnTOIL0Q7kX",
        "outputId": "336d1204-ba69-4ed5-935d-827984353b56"
      },
      "execution_count": 28,
      "outputs": [
        {
          "output_type": "stream",
          "name": "stderr",
          "text": [
            "/usr/lib/python3.7/runpy.py:193: ModelsWarning: [W007] The model you're using has no word vectors loaded, so the result of the Token.similarity method will be based on the tagger, parser and NER, which may not give useful similarity judgements. This may happen if you're using one of the small models, e.g. `en_core_web_sm`, which don't ship with word vectors and only use context-sensitive tensors. You can always add your own word vectors, or use one of the larger models instead if available.\n",
            "  \"__main__\", mod_spec)\n"
          ]
        },
        {
          "output_type": "execute_result",
          "data": {
            "text/plain": [
              "0.12487637"
            ]
          },
          "metadata": {},
          "execution_count": 28
        }
      ]
    },
    {
      "cell_type": "markdown",
      "source": [
        "## Accessing word vectors"
      ],
      "metadata": {
        "id": "vlsstm7KQq5U"
      }
    },
    {
      "cell_type": "code",
      "source": [
        "doc = nlp(\"I like cats\") #Vector as a numpy array\n",
        "\n",
        "doc[2].vector #The L2 norm of the token's vector\n",
        "\n",
        "doc[2].vector_norm"
      ],
      "metadata": {
        "colab": {
          "base_uri": "https://localhost:8080/"
        },
        "id": "mvkpiE8YQr5I",
        "outputId": "94929a58-4bb1-4d21-caae-e40f6e35f46e"
      },
      "execution_count": 38,
      "outputs": [
        {
          "output_type": "execute_result",
          "data": {
            "text/plain": [
              "21.84148"
            ]
          },
          "metadata": {},
          "execution_count": 38
        }
      ]
    },
    {
      "cell_type": "markdown",
      "source": [
        "# Section 9: Syntax iterators"
      ],
      "metadata": {
        "id": "OeaFdcp2RDSg"
      }
    },
    {
      "cell_type": "markdown",
      "source": [
        "## Sentences - Ususally needs the dependency parser"
      ],
      "metadata": {
        "id": "AbBlWrstRFq9"
      }
    },
    {
      "cell_type": "code",
      "source": [
        "doc = nlp(\"This a sentence. This is another one.\")\n",
        "[sent.text for sent in doc.sents] #doc.sents is a generator that yields sentence spans"
      ],
      "metadata": {
        "colab": {
          "base_uri": "https://localhost:8080/"
        },
        "id": "ui4Qg3TOREkK",
        "outputId": "cb6a46af-01cb-4182-8e5a-a14fbf53bb62"
      },
      "execution_count": 39,
      "outputs": [
        {
          "output_type": "execute_result",
          "data": {
            "text/plain": [
              "['This a sentence.', 'This is another one.']"
            ]
          },
          "metadata": {},
          "execution_count": 39
        }
      ]
    },
    {
      "cell_type": "markdown",
      "source": [
        "## Base noun phrases - Needs the tagger and parser"
      ],
      "metadata": {
        "id": "P_HQh0prSQt5"
      }
    },
    {
      "cell_type": "code",
      "source": [
        "doc = nlp(\"I have a red car\")\n",
        "#doc.noun_chunks is a generator that yields spans\n",
        "[chunk.text for chunk in doc.noun_chunks]"
      ],
      "metadata": {
        "colab": {
          "base_uri": "https://localhost:8080/"
        },
        "id": "x2A-WbHXRLok",
        "outputId": "2aaf0b28-0412-4f1c-f169-c91de2352a37"
      },
      "execution_count": 40,
      "outputs": [
        {
          "output_type": "execute_result",
          "data": {
            "text/plain": [
              "['I', 'a red car']"
            ]
          },
          "metadata": {},
          "execution_count": 40
        }
      ]
    },
    {
      "cell_type": "markdown",
      "source": [
        "# Section 10: Extension attributes\n",
        "\n",
        "Custom attributes that are registered on the global Doc, Token and Span classes and become available as `._ .`"
      ],
      "metadata": {
        "id": "eylcoFHIS2R8"
      }
    },
    {
      "cell_type": "code",
      "source": [
        "from spacy.tokens import Doc, Token, Span\n",
        "doc = nlp(\"The sky over New York is blue\")"
      ],
      "metadata": {
        "id": "z8lVCi2OS3aI"
      },
      "execution_count": 41,
      "outputs": []
    },
    {
      "cell_type": "markdown",
      "source": [
        "## Attribute extensions - With default value"
      ],
      "metadata": {
        "id": "shU09-IoTA3f"
      }
    },
    {
      "cell_type": "code",
      "source": [
        "# Register custom attribute on Token class\n",
        "Token.set_extension(\"is_color\", default=False)\n",
        "\n",
        "# Overwrite extension attribute with default value\n",
        "doc[6]._.is_color = True"
      ],
      "metadata": {
        "id": "hWLapJ9pTCs7"
      },
      "execution_count": 42,
      "outputs": []
    },
    {
      "cell_type": "markdown",
      "source": [
        "## Property extensions - With getter and setter"
      ],
      "metadata": {
        "id": "xiIburAFTJNf"
      }
    },
    {
      "cell_type": "code",
      "source": [
        "# Register custom attribute on Doc class\n",
        "get_reversed = lambda doc: doc.text[::-1]\n",
        "Doc.set_extension(\"reversed\", getter=get_reversed)\n",
        "\n",
        "# Compute value of extension attribute with getter\n",
        "doc._.reversed\n"
      ],
      "metadata": {
        "colab": {
          "base_uri": "https://localhost:8080/",
          "height": 35
        },
        "id": "V1NEb4AGTG3J",
        "outputId": "0e80c9fa-4bfb-4aa3-9dd6-9599d8cbbf38"
      },
      "execution_count": 43,
      "outputs": [
        {
          "output_type": "execute_result",
          "data": {
            "text/plain": [
              "'eulb si kroY weN revo yks ehT'"
            ],
            "application/vnd.google.colaboratory.intrinsic+json": {
              "type": "string"
            }
          },
          "metadata": {},
          "execution_count": 43
        }
      ]
    },
    {
      "cell_type": "markdown",
      "source": [
        "## Method extensions - Callable Method"
      ],
      "metadata": {
        "id": "hLxYGDm0TWK1"
      }
    },
    {
      "cell_type": "code",
      "source": [
        "# Register custom attribute on Span class\n",
        "has_label = lambda span, label: span.label_ == label\n",
        "Span.set_extension(\"has_label\", method=has_label)\n",
        "\n",
        "# Compute value of extension attribute with method\n",
        "doc[3:5].has_label(\"GPE\")"
      ],
      "metadata": {
        "id": "e8ufTRLWTYPp"
      },
      "execution_count": null,
      "outputs": []
    },
    {
      "cell_type": "markdown",
      "source": [
        "`True`"
      ],
      "metadata": {
        "id": "eJ5nr-bCUJgV"
      }
    },
    {
      "cell_type": "markdown",
      "source": [
        "# Section 11: Rule-based matching"
      ],
      "metadata": {
        "id": "4gkzzdvZUPx_"
      }
    },
    {
      "cell_type": "markdown",
      "source": [
        "## Using the matcher"
      ],
      "metadata": {
        "id": "lOLjgbpnUTJf"
      }
    },
    {
      "cell_type": "code",
      "source": [
        "# Matcher is initialized with the shared vocab\n",
        "\n",
        "from spacy.matcher import Matcher\n",
        "\n",
        "# Each dict represents one token and its attributes\n",
        "\n",
        "matcher = Matcher(nlp.vocab)\n",
        "\n",
        "# Add with ID, optional callback and pattern(s)\n",
        "\n",
        "pattern = [{\"LOWER\": \"new\"}, {\"LOWER\": \"york\"}]\n",
        "\n",
        "matcher.add(\"CITIES\", None, pattern)\n",
        "\n",
        "# Match by calling the matcher on a Doc object\n",
        "\n",
        "doc = nlp(\"I live in New York\")\n",
        "\n",
        "matches = matcher(doc)\n",
        "\n",
        "# Matches are (match_id, start, end) tuples\n",
        "\n",
        "for match_id, start, end in matches: # Get the matched span by slicing the Doc\n",
        "    span = doc[start:end]\n",
        "    print(span.text)\n"
      ],
      "metadata": {
        "colab": {
          "base_uri": "https://localhost:8080/"
        },
        "id": "gBp1m8FHTbkn",
        "outputId": "2ce45caf-68fd-4e49-c4a2-98627fc29376"
      },
      "execution_count": 45,
      "outputs": [
        {
          "output_type": "stream",
          "name": "stdout",
          "text": [
            "New York\n"
          ]
        }
      ]
    },
    {
      "cell_type": "markdown",
      "source": [
        "## Token patterns"
      ],
      "metadata": {
        "id": "noeGTezJUrGh"
      }
    },
    {
      "cell_type": "code",
      "source": [
        "#\"love cats\", \"loving cats\", \"loved cats\"\n",
        "\n",
        "pattern1 = [{\"LEMMA\": \"love\"}, {\"LOWER\": \"cats\"}]\n",
        "\n",
        "# \"10 people\", \"twenty people\"\n",
        "\n",
        "pattern2 = [{\"LIKE_NUM\": True}, {\"TEXT\": \"people\"}]\n",
        "\n",
        "# \"book\", \"a cat\", \"the sea\" (noun + optional article)\n",
        "\n",
        "pattern3 = [{\"POS\": \"DET\", \"OP\": \"?\"}, {\"POS\": \"NOUN\"}]"
      ],
      "metadata": {
        "id": "5Iv4L2Q1UrzD"
      },
      "execution_count": 46,
      "outputs": []
    },
    {
      "cell_type": "markdown",
      "source": [
        "## Operators and quantifiers\n",
        "\n",
        "Can be added to a token dict as the \"OP\" key\n",
        "\n",
        "- !: Negate pattern and match exactly 0 times\n",
        "- ?: Make pattern optional and match 0 or 1 times\n",
        "- +: Require pattern to match 1 or more times\n",
        "- *: Allow pattern to match 0 or more time"
      ],
      "metadata": {
        "id": "0Bj3-NH9Uw8S"
      }
    },
    {
      "cell_type": "code",
      "source": [
        ""
      ],
      "metadata": {
        "id": "QLC3A9_AUxcq"
      },
      "execution_count": null,
      "outputs": []
    },
    {
      "cell_type": "markdown",
      "source": [
        "# Section 12: Glossary"
      ],
      "metadata": {
        "id": "0BRn5s2LU7jC"
      }
    },
    {
      "cell_type": "markdown",
      "source": [
        "## Tokenization\n",
        "\n",
        "Segmenting text into words, punctuation etc"
      ],
      "metadata": {
        "id": "4-XnjPiwU9-s"
      }
    },
    {
      "cell_type": "markdown",
      "source": [
        "## Lemmatization\n",
        "\n",
        "Assigning the base forms of words, for example:\n",
        "\n",
        "\"was\" → \"be\" or \"rats\" → \"rat\".\n"
      ],
      "metadata": {
        "id": "N6K5ZjJSVBie"
      }
    },
    {
      "cell_type": "markdown",
      "source": [
        "## Sentence Boundary Detection\n",
        "\n",
        "Finding and segmenting individual sentences.\n"
      ],
      "metadata": {
        "id": "1PZF8iNbVG78"
      }
    },
    {
      "cell_type": "markdown",
      "source": [
        "## Part-of-speech (POS) Tagging\n",
        "\n",
        "Assigning word types to tokens like verb or noun."
      ],
      "metadata": {
        "id": "KbijTxEEVLNK"
      }
    },
    {
      "cell_type": "markdown",
      "source": [
        "## Dependency Parsing\n",
        "\n",
        "Assigning syntactic dependency labels,\n",
        "\n",
        "describing the relations between individual\n",
        "\n",
        "tokens, like subject or object."
      ],
      "metadata": {
        "id": "yc-UcaY0VPcO"
      }
    },
    {
      "cell_type": "markdown",
      "source": [
        "## Named Entity Recognition (NER)\n",
        "\n",
        "Labeling named \"real-world\" objects, \n",
        "\n",
        "like persons, companies or locations."
      ],
      "metadata": {
        "id": "GGwL9qaAVTDk"
      }
    },
    {
      "cell_type": "markdown",
      "source": [
        "## Text Classification\n",
        "\n",
        "Assigning categories or labels to a whole\n",
        "\n",
        "document, or parts of a document."
      ],
      "metadata": {
        "id": "gmHTct4DVWrc"
      }
    },
    {
      "cell_type": "markdown",
      "source": [
        "## Statistical model\n",
        "\n",
        "Process for making predictions based on\n",
        " examples."
      ],
      "metadata": {
        "id": "3p81TzQ_VbGm"
      }
    },
    {
      "cell_type": "markdown",
      "source": [
        "## Training\n",
        "\n",
        "Updating a statistical model with new examples."
      ],
      "metadata": {
        "id": "zktReR8EVef5"
      }
    },
    {
      "cell_type": "code",
      "source": [
        ""
      ],
      "metadata": {
        "id": "mkFArGJiU8s9"
      },
      "execution_count": null,
      "outputs": []
    }
  ]
}