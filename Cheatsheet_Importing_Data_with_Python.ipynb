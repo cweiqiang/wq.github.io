{
  "nbformat": 4,
  "nbformat_minor": 0,
  "metadata": {
    "colab": {
      "name": "Cheatsheet-Importing_Data_with_Python.ipynb",
      "provenance": [],
      "collapsed_sections": [],
      "toc_visible": true,
      "authorship_tag": "ABX9TyMdAwmlviEsJvhtTFLWTYav",
      "include_colab_link": true
    },
    "kernelspec": {
      "name": "python3",
      "display_name": "Python 3"
    },
    "language_info": {
      "name": "python"
    }
  },
  "cells": [
    {
      "cell_type": "markdown",
      "metadata": {
        "id": "view-in-github",
        "colab_type": "text"
      },
      "source": [
        "<a href=\"https://colab.research.google.com/github/cweiqiang/wq.github.io/blob/main/Cheatsheet_Importing_Data_with_Python.ipynb\" target=\"_parent\"><img src=\"https://colab.research.google.com/assets/colab-badge.svg\" alt=\"Open In Colab\"/></a>"
      ]
    },
    {
      "cell_type": "markdown",
      "source": [
        "# 1. Importing Data in Python\n",
        "\n",
        "Most of the time, you’ll use either NumPy or pandas to import your data:"
      ],
      "metadata": {
        "id": "j3rU7JIcMJlz"
      }
    },
    {
      "cell_type": "code",
      "execution_count": null,
      "metadata": {
        "id": "d3JaPxkqoYTL"
      },
      "outputs": [],
      "source": [
        "import numpy as np\n",
        "import pandas as pd"
      ]
    },
    {
      "cell_type": "markdown",
      "source": [
        "# 2. Help\n",
        "\n"
      ],
      "metadata": {
        "id": "AYnsLOn8MVHm"
      }
    },
    {
      "cell_type": "code",
      "source": [
        "import numpy as np\n",
        "np.info(np.ndarray.dtype)\n",
        "help(pd.read_csv)"
      ],
      "metadata": {
        "id": "-aEN7o7vMlbH"
      },
      "execution_count": null,
      "outputs": []
    },
    {
      "cell_type": "markdown",
      "source": [
        "# Text Files\n",
        "\n"
      ],
      "metadata": {
        "id": "rE_YOwKPMm2u"
      }
    },
    {
      "cell_type": "markdown",
      "source": [
        "## Plain Text Files"
      ],
      "metadata": {
        "id": "YwNIKwSaUUCc"
      }
    },
    {
      "cell_type": "code",
      "source": [
        "filename = 'huck_finn.txt'\n",
        "file = open(filename, mode='r') # open the file for reading\n",
        "text = file.read() #read a file's content\n",
        "print(file.closed) # check whether another file is closed\n",
        "file.close() # close file\n",
        "print(text)"
      ],
      "metadata": {
        "id": "2fkDOH3mMrRE"
      },
      "execution_count": null,
      "outputs": []
    },
    {
      "cell_type": "markdown",
      "source": [
        " - Using the context manager with"
      ],
      "metadata": {
        "id": "_5skQAN7NaDG"
      }
    },
    {
      "cell_type": "code",
      "source": [
        "with open('huck_finn.txt', 'r') as file:\n",
        "  print(file.readline()) #Read a single line\n",
        "  print(file.readline())\n",
        "  print(file.readline())"
      ],
      "metadata": {
        "id": "A8qdYL4SNZrS"
      },
      "execution_count": null,
      "outputs": []
    },
    {
      "cell_type": "markdown",
      "source": [
        "## Table Data: Flat files\n",
        "\n"
      ],
      "metadata": {
        "id": "Ma63yboFN766"
      }
    },
    {
      "cell_type": "markdown",
      "source": [
        "### Importing Flat Files with NumPy"
      ],
      "metadata": {
        "id": "asyc1rTeUipz"
      }
    },
    {
      "cell_type": "code",
      "source": [
        "filename = 'huck_finn.txt'\n",
        "file = open(filename, mode='r') # open the file for reading\n",
        "text = file.read() #read a file's content\n",
        "print(file.closed) # check whether another file is closed\n",
        "file.close() # close file\n",
        "print(text)"
      ],
      "metadata": {
        "id": "lV31CMg0OBXg"
      },
      "execution_count": null,
      "outputs": []
    },
    {
      "cell_type": "markdown",
      "source": [
        "### Files with one data type"
      ],
      "metadata": {
        "id": "7_ruQt77OLQ3"
      }
    },
    {
      "cell_type": "code",
      "source": [
        "filename = 'mnist.txt'\n",
        "data = np.loadtxt(filename,\n",
        "delimiter= ',', #string used to separate values\n",
        "skiprows=2, #skip the first 2 lines\n",
        "usecols=[0,2], #read the 1st and 3rd column\n",
        "dtype=str) # the type of the resulting string"
      ],
      "metadata": {
        "id": "zqhlK9M5OKlB"
      },
      "execution_count": null,
      "outputs": []
    },
    {
      "cell_type": "markdown",
      "source": [
        "### Files with mixed data type"
      ],
      "metadata": {
        "id": "TGMHiz-vOKLm"
      }
    },
    {
      "cell_type": "code",
      "source": [
        "filename = 'titanic.csv'\n",
        "\n",
        "data = np.genfromtxt(filename,\n",
        "delimiter=',',\n",
        "names=True, #look for column header\n",
        "dtype=None)\n",
        "\n",
        "data_array = np.recfromcsv(filename)\n",
        "# the default dtype of the np.recfromcsv() function is None"
      ],
      "metadata": {
        "id": "nmG02fQsOpmv"
      },
      "execution_count": null,
      "outputs": []
    },
    {
      "cell_type": "markdown",
      "source": [
        "## Importing Flat Files with Pandas"
      ],
      "metadata": {
        "id": "2H8pY5r2O9wp"
      }
    },
    {
      "cell_type": "code",
      "source": [
        "filename = 'winequality-red.csv'\n",
        "\n",
        "data = pd.read_csv(filename,\n",
        "nrows=5,\n",
        "header=None,\n",
        "sep='\\t',\n",
        "comment= '#',\n",
        "na_values=[\"\"])"
      ],
      "metadata": {
        "id": "yNLorPnQPJ8C"
      },
      "execution_count": null,
      "outputs": []
    },
    {
      "cell_type": "markdown",
      "source": [
        "# Exploring Your Data\n",
        "\n"
      ],
      "metadata": {
        "id": "9AvvuqzvPb2b"
      }
    },
    {
      "cell_type": "markdown",
      "source": [
        "## NumPy Arrays"
      ],
      "metadata": {
        "id": "WHhmGfnFUv4D"
      }
    },
    {
      "cell_type": "code",
      "source": [
        "data_array.dtype # Data type of array elements\n",
        "data_array.shape # Array dimentions\n",
        "len(data_array) #Length of array"
      ],
      "metadata": {
        "id": "cHYLWRoPPgbI"
      },
      "execution_count": null,
      "outputs": []
    },
    {
      "cell_type": "markdown",
      "source": [
        "## Pandas Dataframes"
      ],
      "metadata": {
        "id": "G09ShpPkP3_Y"
      }
    },
    {
      "cell_type": "code",
      "source": [
        "df=[]"
      ],
      "metadata": {
        "id": "zpV65m1tRNDr"
      },
      "execution_count": null,
      "outputs": []
    },
    {
      "cell_type": "code",
      "source": [
        "df.head()\n",
        "df.tail()\n",
        "df.index\n",
        "df.columns\n",
        "df.info()\n",
        "data_array = data.values #Convert a DataFrame to an a NumPy array"
      ],
      "metadata": {
        "id": "lXi8XCBXPkLH"
      },
      "execution_count": null,
      "outputs": []
    },
    {
      "cell_type": "markdown",
      "source": [
        "## SAS File"
      ],
      "metadata": {
        "id": "CABr8_y5QFkE"
      }
    },
    {
      "cell_type": "code",
      "source": [
        "from sas7bdat import SAS7BDAT\n",
        "with SAS7BDAT( ) as file:\n",
        "df_sas = file.to_data_frame()"
      ],
      "metadata": {
        "id": "E9OiC7deQHHA"
      },
      "execution_count": null,
      "outputs": []
    },
    {
      "cell_type": "markdown",
      "source": [
        "## Stata File"
      ],
      "metadata": {
        "id": "4rNUaKa8QKU0"
      }
    },
    {
      "cell_type": "code",
      "source": [
        "data = pd.read_stata('urbanpop.dta')"
      ],
      "metadata": {
        "id": "j6JHrTESQL2c"
      },
      "execution_count": null,
      "outputs": []
    },
    {
      "cell_type": "markdown",
      "source": [
        "## Excel Spreadsheets"
      ],
      "metadata": {
        "id": "O3nlKDWnQNMp"
      }
    },
    {
      "cell_type": "code",
      "source": [
        "file = 'urbanpop.xlsx'\n",
        "data = pd.ExcelFile(file)\n",
        "\n",
        "df_sheet2 = data.parse('1960-1966',\n",
        "skiprows=[0],\n",
        "names=['Country',\n",
        "'AAM: War(2002)'\n",
        "])\n",
        "\n",
        "df_sheet1 = data.parse(0,\n",
        "parse_cols=[0],\n",
        "skiprows=[0],\n",
        "names=['Country'])"
      ],
      "metadata": {
        "id": "cl2HPy6xQQIi"
      },
      "execution_count": null,
      "outputs": []
    },
    {
      "cell_type": "markdown",
      "source": [
        "To access the sheet names, use the `sheet_names` attribute:"
      ],
      "metadata": {
        "id": "Ms674FzlQSm2"
      }
    },
    {
      "cell_type": "code",
      "source": [
        "data.sheet_names"
      ],
      "metadata": {
        "id": "8-RpumsQQT4n"
      },
      "execution_count": null,
      "outputs": []
    },
    {
      "cell_type": "markdown",
      "source": [
        "# Relational Databases\n",
        "\n"
      ],
      "metadata": {
        "id": "9jt8BaNMQqSb"
      }
    },
    {
      "cell_type": "code",
      "source": [
        "from sqlalchemy import create_engine\n",
        "engine = create_engine('sqlite://Northwind.sqlite')"
      ],
      "metadata": {
        "id": "BGQLwopnQuGI"
      },
      "execution_count": null,
      "outputs": []
    },
    {
      "cell_type": "markdown",
      "source": [
        "Use the `table_names()` method to fetch a list of table names:"
      ],
      "metadata": {
        "id": "UckjJOcBQx4v"
      }
    },
    {
      "cell_type": "code",
      "source": [
        "table_names = engine.table_names()"
      ],
      "metadata": {
        "id": "LHu579vbQz7x"
      },
      "execution_count": null,
      "outputs": []
    },
    {
      "cell_type": "markdown",
      "source": [
        "## Querying Relational Databases"
      ],
      "metadata": {
        "id": "0-SF2yM7Q1Th"
      }
    },
    {
      "cell_type": "code",
      "source": [
        "con = engine.connect()\n",
        "rs = con.execute(\"SELECT * FROM Orders\")\n",
        "df = pd.DataFrame(rs.fetchall())\n",
        "df.columns = rs.keys()\n",
        "con.close()"
      ],
      "metadata": {
        "id": "uxbztV2DQ229"
      },
      "execution_count": null,
      "outputs": []
    },
    {
      "cell_type": "markdown",
      "source": [
        "Using the context manager with"
      ],
      "metadata": {
        "id": "GD6M7SU4Q-_N"
      }
    },
    {
      "cell_type": "code",
      "source": [
        "with engine.connect() as con:\n",
        "  rs = con.execute( )\n",
        "  df = pd.DataFrame(rs.fetchmany(size=5))\n",
        "  df.columns = rs.keys()"
      ],
      "metadata": {
        "id": "BAGlJj9EQ_Tm"
      },
      "execution_count": null,
      "outputs": []
    },
    {
      "cell_type": "markdown",
      "source": [
        "## Querying relational databases with pandas"
      ],
      "metadata": {
        "id": "bXKDALtNRTWa"
      }
    },
    {
      "cell_type": "code",
      "source": [
        "df = pd.read_sql_query(\"SELECT * FROM Orders\", engine)"
      ],
      "metadata": {
        "id": "vFaesyfwRVip"
      },
      "execution_count": null,
      "outputs": []
    },
    {
      "cell_type": "markdown",
      "source": [
        "# Pickled Files\n"
      ],
      "metadata": {
        "id": "KZg5x2h1Rdzi"
      }
    },
    {
      "cell_type": "code",
      "source": [
        "import pickle\n",
        "with open('pickled_fruit.pkl' 'rb') as file:\n",
        "  pickled_data = pickle.load(file)"
      ],
      "metadata": {
        "id": "VlBVwoksRYua"
      },
      "execution_count": null,
      "outputs": []
    },
    {
      "cell_type": "markdown",
      "source": [
        "# MATLAB files\n"
      ],
      "metadata": {
        "id": "bekalvD5Ruqe"
      }
    },
    {
      "cell_type": "code",
      "source": [
        "import scipy.io\n",
        "filename = 'workspace.mat'\n",
        "mat = scipy.io.loadmat(filename)"
      ],
      "metadata": {
        "id": "kre0WkebRyj9"
      },
      "execution_count": null,
      "outputs": []
    },
    {
      "cell_type": "markdown",
      "source": [
        "# HDF5 Files\n"
      ],
      "metadata": {
        "id": "f4FUnBNuR6xh"
      }
    },
    {
      "cell_type": "code",
      "source": [
        "import h5py\n",
        "filename ='H-H1_LOSC_4_v1-815411200-4096.hdf5'\n",
        "data = h5py.File(filename, 'r')"
      ],
      "metadata": {
        "id": "VpeWfgN4R9LA"
      },
      "execution_count": null,
      "outputs": []
    },
    {
      "cell_type": "markdown",
      "source": [
        "# Exploring Dictionaries"
      ],
      "metadata": {
        "id": "MHCroEZvSFji"
      }
    },
    {
      "cell_type": "markdown",
      "source": [
        "## Querying relational databases with pandas"
      ],
      "metadata": {
        "id": "akyedAQ1SJio"
      }
    },
    {
      "cell_type": "code",
      "source": [
        "print(mat.keys()) #Print dictionary keys\n",
        "for key in data.keys(): #Print dictionary keys\n",
        "  print(key)"
      ],
      "metadata": {
        "id": "ev9N7HaOSH61"
      },
      "execution_count": null,
      "outputs": []
    },
    {
      "cell_type": "markdown",
      "source": [
        "meta\n",
        "\n",
        "quality\n",
        "\n",
        "strain"
      ],
      "metadata": {
        "id": "XswqiOyASU1F"
      }
    },
    {
      "cell_type": "code",
      "source": [
        "pickled_data.values() #Return dictionary values\n",
        "print(mat.items()) #Returns items in list format of (key, value) tuple pairs"
      ],
      "metadata": {
        "id": "8t2IkP6ESTcJ"
      },
      "execution_count": null,
      "outputs": []
    },
    {
      "cell_type": "markdown",
      "source": [
        "## Accessing Data Items with Keys"
      ],
      "metadata": {
        "id": "q-h0t_2nSvEx"
      }
    },
    {
      "cell_type": "code",
      "source": [
        "for key in data ['meta'].keys(): \n",
        "    print(key) #Explore the HDF5 structure"
      ],
      "metadata": {
        "id": "VXkQUL4ASvuF"
      },
      "execution_count": null,
      "outputs": []
    },
    {
      "cell_type": "markdown",
      "source": [
        "Description\n",
        "\n",
        "DescriptionURL\n",
        "\n",
        "Detector\n",
        "\n",
        "Duration\n",
        "\n",
        "GPSstart\n",
        "\n",
        "Observatory\n",
        "\n",
        "Type\n",
        "\n",
        "UTCstart"
      ],
      "metadata": {
        "id": "Vd98jg8XTDzf"
      }
    },
    {
      "cell_type": "code",
      "source": [
        "#Retrieve the value for a key\n",
        "print(data['meta']['Description'].value)"
      ],
      "metadata": {
        "id": "TBCpGXAXTHZJ"
      },
      "execution_count": null,
      "outputs": []
    },
    {
      "cell_type": "markdown",
      "source": [
        "# Navigating Your FileSystem\n",
        "\n"
      ],
      "metadata": {
        "id": "KuxZ043hTVv2"
      }
    },
    {
      "cell_type": "markdown",
      "source": [
        "## Magic Commands"
      ],
      "metadata": {
        "id": "eLGaGPJzTae0"
      }
    },
    {
      "cell_type": "code",
      "source": [
        "!ls #List directory contents of files and directories\n",
        "%cd .. #Change current working directory\n",
        "%pwd #Return the current working directory path"
      ],
      "metadata": {
        "id": "XEA1RKb3Ta9V"
      },
      "execution_count": null,
      "outputs": []
    },
    {
      "cell_type": "markdown",
      "source": [
        "## OS Library"
      ],
      "metadata": {
        "id": "7Vee0w7pTjFf"
      }
    },
    {
      "cell_type": "code",
      "source": [
        "import os\n",
        "path = \"/usr/tmp\"\n",
        "wd = os.getcwd() #Store the name of current directory in a string\n",
        "os.listdir(wd) #Output contents of the directory in a list\n",
        "os.chdir(path) #Change current working directory\n",
        "os.rename(\"test1.txt\", #Rename a file\n",
        "\"test2.txt\")\n",
        "os.remove(\"test1.txt\") #Delete an existing file\n",
        "os.mkdir(\"newdir\") #Create a new directory"
      ],
      "metadata": {
        "id": "D7OWg94FTlHh"
      },
      "execution_count": null,
      "outputs": []
    }
  ]
}