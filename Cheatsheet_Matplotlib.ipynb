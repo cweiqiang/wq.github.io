{
  "nbformat": 4,
  "nbformat_minor": 0,
  "metadata": {
    "colab": {
      "name": "Cheatsheet-Matplotlib.ipynb",
      "provenance": [],
      "collapsed_sections": [],
      "authorship_tag": "ABX9TyMLK/Tvy/uBprQ2Z71WcxTu",
      "include_colab_link": true
    },
    "kernelspec": {
      "name": "python3",
      "display_name": "Python 3"
    },
    "language_info": {
      "name": "python"
    }
  },
  "cells": [
    {
      "cell_type": "markdown",
      "metadata": {
        "id": "view-in-github",
        "colab_type": "text"
      },
      "source": [
        "<a href=\"https://colab.research.google.com/github/cweiqiang/wq.github.io/blob/main/Cheatsheet_Matplotlib.ipynb\" target=\"_parent\"><img src=\"https://colab.research.google.com/assets/colab-badge.svg\" alt=\"Open In Colab\"/></a>"
      ]
    },
    {
      "cell_type": "markdown",
      "source": [
        "# Matplotlib\n",
        "\n",
        "Matplotlib is a Python 2D plotting library which produces \n",
        "\n",
        "publication-quality figures in a variety of hardcopy formats and \n",
        "\n",
        "interactive environments across platforms."
      ],
      "metadata": {
        "id": "LqPon10w2x9c"
      }
    },
    {
      "cell_type": "markdown",
      "source": [
        "# Plot Overview"
      ],
      "metadata": {
        "id": "9cQ2UmMF4VLi"
      }
    },
    {
      "cell_type": "markdown",
      "source": [
        "The basic steps to creating plots with matplotlib are:\n",
        "1. Prepare Data\n",
        "2. Create Plot \n",
        "3. Plot \n",
        "4. Customized Plot \n",
        "5. Save Plot\n",
        "6. Show Plot\n",
        "\n"
      ],
      "metadata": {
        "id": "ON8EoMRC4elK"
      }
    },
    {
      "cell_type": "code",
      "source": [
        "import matplotlib.pyplot as plt\n",
        "x = [1,2,3,4] #Step 1\n",
        "y = [10,20,25,30]\n",
        "\n",
        "fig = plt.figure() #Step 2\n",
        "\n",
        "ax = fig.add_subplot(111) #Step 3\n",
        "\n",
        "ax.plot(x, y, color='lightblue', linewidth=3) #Step 3, 4\n",
        "\n",
        "ax.scatter([2,4,6],[5,15,25],color='darkgreen', marker='^')\n",
        "\n",
        "ax.set_xlim(1, 6.5)\n",
        "\n",
        "plt.savefig('foo.png') #Step 5\n",
        "\n",
        "plt.show() #Step 6"
      ],
      "metadata": {
        "colab": {
          "base_uri": "https://localhost:8080/",
          "height": 265
        },
        "id": "5If163kX5Ckb",
        "outputId": "44613c7b-263a-4dc9-a49a-328d5efcb958"
      },
      "execution_count": 8,
      "outputs": [
        {
          "output_type": "display_data",
          "data": {
            "text/plain": [
              "<Figure size 432x288 with 1 Axes>"
            ],
            "image/png": "[encoded data removed]"
          },
          "metadata": {
            "needs_background": "light"
          }
        }
      ]
    },
    {
      "cell_type": "markdown",
      "source": [
        "# Step1: Prepare The Data"
      ],
      "metadata": {
        "id": "HIiwRNws23hx"
      }
    },
    {
      "cell_type": "markdown",
      "source": [
        "## 1D-data"
      ],
      "metadata": {
        "id": "WB1exqh33BSV"
      }
    },
    {
      "cell_type": "code",
      "execution_count": 1,
      "metadata": {
        "id": "5lFT9qKnqfer"
      },
      "outputs": [],
      "source": [
        "import numpy as np\n",
        "x = np.linspace(0, 10, 100)\n",
        "y = np.cos(x)\n",
        "z = np.sin(x)"
      ]
    },
    {
      "cell_type": "markdown",
      "source": [
        "## 2D Data or Images"
      ],
      "metadata": {
        "id": "8rLIFpsy3D4A"
      }
    },
    {
      "cell_type": "code",
      "source": [
        "data = 2 * np.random.random((10, 10))\n",
        "data2 = 3 * np.random.random((10, 10))\n",
        "\n",
        "Y, X = np.mgrid[-3:3:100j, -3:3:100j]\n",
        "U = -1 - X**2 + Y\n",
        "V = 1 + X - Y**2"
      ],
      "metadata": {
        "id": "UDI-c2LN3GXF"
      },
      "execution_count": 2,
      "outputs": []
    },
    {
      "cell_type": "code",
      "source": [
        "from matplotlib.cbook import get_sample_data\n",
        "img = np.load(get_sample_data('axes_grid/bivariate_normal.npy'))"
      ],
      "metadata": {
        "id": "vrZrSAE63OUm"
      },
      "execution_count": 3,
      "outputs": []
    },
    {
      "cell_type": "markdown",
      "source": [
        "# Step2: Create Plot"
      ],
      "metadata": {
        "id": "a97S2SnD3VNP"
      }
    },
    {
      "cell_type": "code",
      "source": [
        "import matplotlib.pyplot as plt"
      ],
      "metadata": {
        "id": "WCTUWdZd3WUE"
      },
      "execution_count": 4,
      "outputs": []
    },
    {
      "cell_type": "markdown",
      "source": [
        "## Figure"
      ],
      "metadata": {
        "id": "ndqwDuTs3ZUA"
      }
    },
    {
      "cell_type": "code",
      "source": [
        "fig = plt.figure()\n",
        "fig2 = plt.figure(figsize=plt.figaspect(2.0))"
      ],
      "metadata": {
        "colab": {
          "base_uri": "https://localhost:8080/",
          "height": 52
        },
        "id": "EcS5yrZD3YaL",
        "outputId": "25e5c7bc-733a-4c6e-9a73-02237c64f23e"
      },
      "execution_count": 5,
      "outputs": [
        {
          "output_type": "display_data",
          "data": {
            "text/plain": [
              "<Figure size 432x288 with 0 Axes>"
            ]
          },
          "metadata": {}
        },
        {
          "output_type": "display_data",
          "data": {
            "text/plain": [
              "<Figure size 288x576 with 0 Axes>"
            ]
          },
          "metadata": {}
        }
      ]
    },
    {
      "cell_type": "markdown",
      "source": [
        "## Axes\n",
        "\n",
        "All plotting is done with respect to an Axes. In most cases, a\n",
        " subplot will fit your needs. \n",
        "\n",
        "A subplot is an axes on a grid system."
      ],
      "metadata": {
        "id": "2K8OKH4_3atG"
      }
    },
    {
      "cell_type": "code",
      "source": [
        "fig.add_axes()\n",
        "\n",
        "ax1 = fig.add_subplot(221) #row-col-num\n",
        "\n",
        "ax3 = fig.add_subplot(212)\n",
        "\n",
        "fig3, axes = plt.subplots(nrows=2,ncols=2)\n",
        "\n",
        "fig4, axes2 = plt.subplots(ncols=3)"
      ],
      "metadata": {
        "colab": {
          "base_uri": "https://localhost:8080/",
          "height": 521
        },
        "id": "GBZACfp13bTY",
        "outputId": "2d998d60-b971-4c9e-82fb-3070dc4965ae"
      },
      "execution_count": 6,
      "outputs": [
        {
          "output_type": "display_data",
          "data": {
            "text/plain": [
              "<Figure size 432x288 with 4 Axes>"
            ],
            "image/png": "[encoded data removed]"
          },
          "metadata": {
            "needs_background": "light"
          }
        },
        {
          "output_type": "display_data",
          "data": {
            "text/plain": [
              "<Figure size 432x288 with 3 Axes>"
            ],
            "image/png": "[encoded data removed]"
          },
          "metadata": {
            "needs_background": "light"
          }
        }
      ]
    },
    {
      "cell_type": "markdown",
      "source": [
        "#Step3: Plotting Routines"
      ],
      "metadata": {
        "id": "iQNast153ruV"
      }
    },
    {
      "cell_type": "markdown",
      "source": [
        "## 1D Data"
      ],
      "metadata": {
        "id": "rKhAQMLG5YdU"
      }
    },
    {
      "cell_type": "code",
      "source": [
        "fig, ax = plt.subplots()\n",
        "\n",
        "lines = ax.plot(x,y) #Draw points with lines or markers connecting them\n",
        "\n",
        "ax.scatter(x,y) #Draw unconnected points, scaled or colored\n",
        "\n",
        "axes[0,0].bar([1,2,3],[3,4,5]) #Plot vertical rectangles (constant width)\n",
        "\n",
        "axes[1,0].barh([0.5,1,2.5],[0,1,2]) #Plot horiontal rectangles (constant height)\n",
        "\n",
        "axes[1,1].axhline(0.45) #Draw a horizontal line across axes\n",
        "\n",
        "axes[0,1].axvline(0.65) #Draw a vertical line across axes\n",
        "\n",
        "ax.fill(x,y,color='blue') #Draw filled polygons\n",
        "\n",
        "ax.fill_between(x,y,color='yellow') #Fill between y-values and 0"
      ],
      "metadata": {
        "colab": {
          "base_uri": "https://localhost:8080/",
          "height": 282
        },
        "id": "sTGkboEE3lrt",
        "outputId": "e01c6077-38f8-4952-ee4c-4b8a2be2793f"
      },
      "execution_count": 9,
      "outputs": [
        {
          "output_type": "execute_result",
          "data": {
            "text/plain": [
              "<matplotlib.collections.PolyCollection at 0x7f9119797590>"
            ]
          },
          "metadata": {},
          "execution_count": 9
        },
        {
          "output_type": "display_data",
          "data": {
            "text/plain": [
              "<Figure size 432x288 with 1 Axes>"
            ],
            "image/png": "[encoded data removed]"
          },
          "metadata": {
            "needs_background": "light"
          }
        }
      ]
    },
    {
      "cell_type": "markdown",
      "source": [
        "## 2D Data"
      ],
      "metadata": {
        "id": "_w1U82t65iGk"
      }
    },
    {
      "cell_type": "code",
      "source": [
        "fig, ax = plt.subplots()\n",
        "\n",
        "im = ax.imshow(img, #Colormapped or RGB arrays \n",
        "               cmap='gist_earth', \n",
        "               interpolation='nearest',\n",
        "               vmin=-2,\n",
        "               vmax=2)\n",
        "\n",
        "axes2[0].pcolor(data2) #Pseudocolor plot of 2D array\n",
        "\n",
        "axes2[0].pcolormesh(data) #Pseudocolor plot of 2D array\n",
        "\n",
        "CS = plt.contour(Y,X,U) #Plot contours\n",
        "\n",
        "axes2[2].contourf(data2) #Plot filled contours\n",
        "\n",
        "axes2[2]= ax.clabel(CS) #Label a contour plot"
      ],
      "metadata": {
        "colab": {
          "base_uri": "https://localhost:8080/",
          "height": 265
        },
        "id": "By3RtP5e5jRO",
        "outputId": "d52f43cf-4a5c-4eb1-a6d1-c580698aa4fe"
      },
      "execution_count": 10,
      "outputs": [
        {
          "output_type": "display_data",
          "data": {
            "text/plain": [
              "<Figure size 432x288 with 1 Axes>"
            ],
            "image/png": "[encoded data removed]"
          },
          "metadata": {
            "needs_background": "light"
          }
        }
      ]
    },
    {
      "cell_type": "markdown",
      "source": [
        "## Vector Fields"
      ],
      "metadata": {
        "id": "pH-S-kbm57tj"
      }
    },
    {
      "cell_type": "code",
      "source": [
        "axes[0,1].arrow(0,0,0.5,0.5) #Add an arrow to the axes\n",
        "\n",
        "axes[1,1].quiver(y,z) #Plot a 2D field of arrows\n",
        "\n",
        "axes[0,1].streamplot(X,Y,U,V) #Plot a 2D field of arrows"
      ],
      "metadata": {
        "id": "L_EQR3vv585c"
      },
      "execution_count": null,
      "outputs": []
    },
    {
      "cell_type": "markdown",
      "source": [
        "## Data Distributions"
      ],
      "metadata": {
        "id": "8laD2Qi66Ev5"
      }
    },
    {
      "cell_type": "code",
      "source": [
        "ax1.hist(y) #Plot a histogram\n",
        "\n",
        "ax3.boxplot(y) #Make a box and whisker plot\n",
        "\n",
        "ax3.violinplot(z) #Make a violin plot"
      ],
      "metadata": {
        "id": "w9eTwZcH6IFp"
      },
      "execution_count": null,
      "outputs": []
    },
    {
      "cell_type": "markdown",
      "source": [
        "# Step4: Customised Plot"
      ],
      "metadata": {
        "id": "E1ztCuy836kX"
      }
    },
    {
      "cell_type": "markdown",
      "source": [
        "## Colors, Color Bars & Color Maps"
      ],
      "metadata": {
        "id": "Uqun1npf6RHh"
      }
    },
    {
      "cell_type": "code",
      "source": [
        "plt.plot(x, x, x, x**2, x, x**3)\n",
        "\n",
        "ax.plot(x, y, alpha = 0.4)\n",
        "\n",
        "ax.plot(x, y, c='k')\n",
        "\n",
        "fig.colorbar(im, orientation='horizontal')\n",
        "\n",
        "im = ax.imshow(img,\n",
        "               cmap='seismic')"
      ],
      "metadata": {
        "id": "jdPukHSx35B1"
      },
      "execution_count": null,
      "outputs": []
    },
    {
      "cell_type": "markdown",
      "source": [
        "## Markers"
      ],
      "metadata": {
        "id": "MG5SotgX6X1o"
      }
    },
    {
      "cell_type": "code",
      "source": [
        "fig, ax = plt.subplots()\n",
        "\n",
        "ax.scatter(x,y,marker=\".\")\n",
        "\n",
        "ax.plot(x,y,marker=\"o\")"
      ],
      "metadata": {
        "id": "eK4yhknl6ZI1"
      },
      "execution_count": null,
      "outputs": []
    },
    {
      "cell_type": "markdown",
      "source": [
        "## Linestyles"
      ],
      "metadata": {
        "id": "l8nA29Yo6g5k"
      }
    },
    {
      "cell_type": "code",
      "source": [
        "plt.plot(x,y,linewidth=4.0)\n",
        "\n",
        "plt.plot(x,y,ls='solid')\n",
        "\n",
        "plt.plot(x,y,ls='--')\n",
        "\n",
        "plt.plot(x,y,'--',x**2,y**2,'-.')\n",
        "\n",
        "plt.setp(lines,color='r',linewidth=4.0)"
      ],
      "metadata": {
        "id": "xS0k4uF26iCi"
      },
      "execution_count": null,
      "outputs": []
    },
    {
      "cell_type": "markdown",
      "source": [
        "## Text & Annotations"
      ],
      "metadata": {
        "id": "nARr3k9T6oAv"
      }
    },
    {
      "cell_type": "code",
      "source": [
        "ax.text(1,\n",
        "        -2.1, \n",
        "        'Example Graph', \n",
        "        style='italic')\n",
        "\n",
        "ax.annotate(\"Sine\",\n",
        "            xy=(8, 0),\n",
        "            xycoords='data', \n",
        "            xytext=(10.5, 0),\n",
        "            textcoords='data', \n",
        "            arrowprops=dict(arrowstyle=\"->\", \n",
        "                            connectionstyle=\"arc3\"),)"
      ],
      "metadata": {
        "id": "bv1ypaxf6pGo"
      },
      "execution_count": null,
      "outputs": []
    },
    {
      "cell_type": "markdown",
      "source": [
        "## Mathtext"
      ],
      "metadata": {
        "id": "1reTbGBa6y1q"
      }
    },
    {
      "cell_type": "code",
      "source": [
        "plt.title(r'$sigma_i=15$', fontsize=20)"
      ],
      "metadata": {
        "id": "jcGw_Tbe61v9"
      },
      "execution_count": null,
      "outputs": []
    },
    {
      "cell_type": "markdown",
      "source": [
        "## Limits, Legends and Layouts"
      ],
      "metadata": {
        "id": "X2StgkOf62ca"
      }
    },
    {
      "cell_type": "markdown",
      "source": [
        "###Limits & Autoscaling"
      ],
      "metadata": {
        "id": "8l_xD-J066uL"
      }
    },
    {
      "cell_type": "code",
      "source": [
        "ax.margins(x=0.0,y=0.1) #Add padding to a plot\n",
        "\n",
        "ax.axis('equal') #Set the aspect ratio of the plot to 1\n",
        "\n",
        "ax.set(xlim=[0,10.5],ylim=[-1.5,1.5]) #Set limits for x-and y-axis\n",
        "\n",
        "ax.set_xlim(0,10.5) #Set limits for x-axis"
      ],
      "metadata": {
        "id": "1xt9jZMJ64Tv"
      },
      "execution_count": null,
      "outputs": []
    },
    {
      "cell_type": "markdown",
      "source": [
        "### Legends\n",
        "\n"
      ],
      "metadata": {
        "id": "S0V8Lm_07Bim"
      }
    },
    {
      "cell_type": "code",
      "source": [
        "ax.set(title='An Example Axes', #Set a title and x-and y-axis labels\n",
        "       ylabel='Y-Axis', \n",
        "       xlabel='X-Axis')\n",
        "\n",
        "ax.legend(loc='best') #No overlapping plot elements"
      ],
      "metadata": {
        "id": "Szd74R9X7LcC"
      },
      "execution_count": null,
      "outputs": []
    },
    {
      "cell_type": "markdown",
      "source": [
        "### Ticks"
      ],
      "metadata": {
        "id": "I8sKKqMb7O_8"
      }
    },
    {
      "cell_type": "code",
      "source": [
        "ax.xaxis.set(ticks=range(1,5), #Manually set x-ticks\n",
        "             ticklabels=[3,100,-12,\"foo\"])\n",
        "\n",
        "ax.tick_params(axis='y', #Make y-ticks longer and go in and out\n",
        "               direction='inout', \n",
        "               length=10)"
      ],
      "metadata": {
        "id": "77nIvk6r7QsW"
      },
      "execution_count": null,
      "outputs": []
    },
    {
      "cell_type": "markdown",
      "source": [
        "### Subplot Spacing\n"
      ],
      "metadata": {
        "id": "N2yngIOM7LHT"
      }
    },
    {
      "cell_type": "code",
      "source": [
        "fig3.subplots_adjust(wspace=0.5, #Adjust the spacing between subplots\n",
        "                     hspace=0.3,\n",
        "                     left=0.125,\n",
        "                     right=0.9,\n",
        "                     top=0.9,\n",
        "                     bottom=0.1)\n",
        "\n",
        "fig.tight_layout() #Fit subplot(s) in to the figure area"
      ],
      "metadata": {
        "id": "kXPbSzYS7aZa"
      },
      "execution_count": null,
      "outputs": []
    },
    {
      "cell_type": "markdown",
      "source": [
        "### Axis Spines"
      ],
      "metadata": {
        "id": "1jvMjOcb7fd0"
      }
    },
    {
      "cell_type": "code",
      "source": [
        "ax1.spines['top'].set_visible(False) #Make the top axis line for a plot invisible\n",
        "\n",
        "ax1.spines['bottom'].set_position(('outward',10)) #Move the bottom axis line outward"
      ],
      "metadata": {
        "id": "7cCWE5sq7glP"
      },
      "execution_count": null,
      "outputs": []
    },
    {
      "cell_type": "markdown",
      "source": [
        "# Step5: Save Plot"
      ],
      "metadata": {
        "id": "70qdttdE4Eln"
      }
    },
    {
      "cell_type": "code",
      "source": [
        "plt.savefig('foo.png') #Save figures\n",
        "plt.savefig('foo.png', transparent=True) #Save transparent figures"
      ],
      "metadata": {
        "id": "xpaqRmlL4FIn"
      },
      "execution_count": null,
      "outputs": []
    },
    {
      "cell_type": "markdown",
      "source": [
        "# Step6 : Show Plot"
      ],
      "metadata": {
        "id": "ie04Y5rg4Lm8"
      }
    },
    {
      "cell_type": "code",
      "source": [
        "plt.show()"
      ],
      "metadata": {
        "id": "Ga7tzw814L8A"
      },
      "execution_count": null,
      "outputs": []
    },
    {
      "cell_type": "markdown",
      "source": [
        "# Close and Clear"
      ],
      "metadata": {
        "id": "lN8CtYxG7qhQ"
      }
    },
    {
      "cell_type": "code",
      "source": [
        "plt.cla() #Clear an axis\n",
        "\n",
        "plt.clf() #Clear the entire figure\n",
        "\n",
        "plt.close() #Close a window"
      ],
      "metadata": {
        "id": "pptiYdcn7sp8"
      },
      "execution_count": null,
      "outputs": []
    }
  ]
}