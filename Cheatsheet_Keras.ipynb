{
  "nbformat": 4,
  "nbformat_minor": 0,
  "metadata": {
    "colab": {
      "name": "Cheatsheet-Keras.ipynb",
      "provenance": [],
      "collapsed_sections": [],
      "toc_visible": true,
      "authorship_tag": "ABX9TyMfLqkAT4JcJjSNUq7umIcM",
      "include_colab_link": true
    },
    "kernelspec": {
      "name": "python3",
      "display_name": "Python 3"
    },
    "language_info": {
      "name": "python"
    }
  },
  "cells": [
    {
      "cell_type": "markdown",
      "metadata": {
        "id": "view-in-github",
        "colab_type": "text"
      },
      "source": [
        "<a href=\"https://colab.research.google.com/github/cweiqiang/wq.github.io/blob/main/Cheatsheet_Keras.ipynb\" target=\"_parent\"><img src=\"https://colab.research.google.com/assets/colab-badge.svg\" alt=\"Open In Colab\"/></a>"
      ]
    },
    {
      "cell_type": "markdown",
      "source": [
        "# Keras\n",
        "Keras is a powerful and easy-to-use deep learning library forTheano and\n",
        "TensorFlow that provides a high-level neural\n",
        " networks API to develop and\n",
        "evaluate deep learning models."
      ],
      "metadata": {
        "id": "WNzi6RSB4Yy9"
      }
    },
    {
      "cell_type": "markdown",
      "source": [
        "# A Basic Example"
      ],
      "metadata": {
        "id": "Pr6VCaJL4vYT"
      }
    },
    {
      "cell_type": "code",
      "execution_count": null,
      "metadata": {
        "id": "xtcT1Ma-4Iyj"
      },
      "outputs": [],
      "source": [
        "import numpy as np\n",
        "from keras.models import Sequential\n",
        "from keras.layers import Dense\n",
        "data = np.random.random((1000,100))\n",
        "labels = np.random.randint(2,size=(1000,1))\n",
        "model = Sequential()\n",
        "model.add(Dense(32, activation='relu', input_dim=100))\n",
        "model.add(Dense(1, activation='sigmoid'))\n",
        "model.compile(optimizer='rmsprop', loss='binary_crossentropy', metrics=['accuracy'])\n",
        "model.fit(data,labels,epochs=10,batch_size=32)\n",
        "predictions = model.predict(data)"
      ]
    },
    {
      "cell_type": "markdown",
      "source": [
        "# Data \n",
        "\n",
        "Your data needs to be stored as NumPy arrays or as a list of NumPy arrays. Ideally, you split the data in training and\n",
        "test sets, for which you can also resort to the train_test_split module of sklearn.cross_validation."
      ],
      "metadata": {
        "id": "gSPThohY41Oa"
      }
    },
    {
      "cell_type": "markdown",
      "source": [
        "## Keras Datasets\n",
        "\n"
      ],
      "metadata": {
        "id": "zpJUvgHZ48NG"
      }
    },
    {
      "cell_type": "code",
      "source": [
        "from keras.datasets import boston_housing, mnist,\n",
        "cifar10, imdb\n",
        "(x_train,y_train),(x_test,y_test) = mnist.load_data()\n",
        "(x_train2,y_train2),(x_test2,y_test2) = boston_housing.load_data()\n",
        "(x_train3,y_train3),(x_test3,y_test3) = cifar10.load_data()\n",
        "(x_train4,y_train4),(x_test4,y_test4) = imdb.load_data(num_words=20000)\n",
        "num_classes = 10"
      ],
      "metadata": {
        "id": "58U3avq542S8"
      },
      "execution_count": null,
      "outputs": []
    },
    {
      "cell_type": "markdown",
      "source": [
        "## Others\n",
        "\n",
        "\n",
        "\n"
      ],
      "metadata": {
        "id": "ue88O4565TKU"
      }
    },
    {
      "cell_type": "code",
      "source": [
        "from urllib.request import urlopen\n",
        "data = np.loadtxt(urlopen(\"http://archive.ics.uci.edu/ml/machine-learning-databases/pima-indians-diabetes/pima-indians-diabetes.data\"), delimiter= \",\")\n",
        "X = data[:,0:8]\n",
        "y = data [:,8]"
      ],
      "metadata": {
        "id": "dtMgSbJh5WCC"
      },
      "execution_count": null,
      "outputs": []
    },
    {
      "cell_type": "markdown",
      "source": [
        "# Preprocessing\n",
        "\n"
      ],
      "metadata": {
        "id": "qi8Dtics5grt"
      }
    },
    {
      "cell_type": "markdown",
      "source": [
        "## Sequence Padding"
      ],
      "metadata": {
        "id": "3f9Tsbna5sNb"
      }
    },
    {
      "cell_type": "code",
      "source": [
        "from keras.preprocessing import sequence\n",
        "x_train4 = sequence.pad_sequences(x_train4,maxlen=80)\n",
        "x_test4 = sequence.pad_sequences(x_test4,maxlen=80)"
      ],
      "metadata": {
        "id": "opjmzwz75t-H"
      },
      "execution_count": null,
      "outputs": []
    },
    {
      "cell_type": "markdown",
      "source": [
        "## One-Hot Encoding"
      ],
      "metadata": {
        "id": "uOqbT0nu5fUE"
      }
    },
    {
      "cell_type": "code",
      "source": [
        "from keras.utils import to_categorical\n",
        "Y_train = to_categorical(y_train, num_classes)\n",
        "Y_test = to_categorical(y_test, num_classes)\n",
        "Y_train3 = to_categorical(y_train3, num_classes)\n",
        "Y_test3 = to_categorical(y_test3, num_classes)"
      ],
      "metadata": {
        "id": "EavfPbux5x08"
      },
      "execution_count": null,
      "outputs": []
    },
    {
      "cell_type": "markdown",
      "source": [
        "# Model Architecture\n"
      ],
      "metadata": {
        "id": "zI0egICN52Yw"
      }
    },
    {
      "cell_type": "markdown",
      "source": [
        "## Sequential Model"
      ],
      "metadata": {
        "id": "i7XNCoJ954UA"
      }
    },
    {
      "cell_type": "code",
      "source": [
        "from keras.models import Sequential\n",
        "model = Sequential()\n",
        "model2 = Sequential()\n",
        "model3 = Sequential()"
      ],
      "metadata": {
        "id": "PfvvO2zV5302"
      },
      "execution_count": null,
      "outputs": []
    },
    {
      "cell_type": "markdown",
      "source": [
        "## Multilayer Perceptron (MLP)"
      ],
      "metadata": {
        "id": "PeI_t7U659lx"
      }
    },
    {
      "cell_type": "markdown",
      "source": [
        "### Binary Classification"
      ],
      "metadata": {
        "id": "-1SYaJNn6A4A"
      }
    },
    {
      "cell_type": "code",
      "source": [
        ">>> from keras.layers import Dense\n",
        ">>> model.add(Dense(12,\n",
        "input_dim=8,\n",
        "kernel_initializer='uniform',\n",
        "activation='relu'))\n",
        ">>> model.add(Dense(8,kernel_initializer='uniform', activation='relu'))\n",
        ">>> model.add(Dense(1,kernel_initializer='uniform',activation='sigmoid'))"
      ],
      "metadata": {
        "id": "eKmZUGE35-n8"
      },
      "execution_count": null,
      "outputs": []
    },
    {
      "cell_type": "markdown",
      "source": [
        "### Multi-Class Classification"
      ],
      "metadata": {
        "id": "Nkl1SYYb6SWz"
      }
    },
    {
      "cell_type": "code",
      "source": [
        "from keras.layers import Dropout\n",
        "model.add(Dense(512,activation='relu',input_shape=(784,)))\n",
        "model.add(Dropout(0.2))\n",
        "model.add(Dense(512,activation='relu'))\n",
        "model.add(Dropout(0.2))\n",
        "model.add(Dense(10,activation='softmax'))"
      ],
      "metadata": {
        "id": "y9xBbVJT6T7h"
      },
      "execution_count": null,
      "outputs": []
    },
    {
      "cell_type": "markdown",
      "source": [
        "### Regression"
      ],
      "metadata": {
        "id": "iB4yFNtW6gro"
      }
    },
    {
      "cell_type": "code",
      "source": [
        "model.add(Dense(64,activation='relu',input_dim=train_data.shape[1]))\n",
        "model.add(Dense(1))"
      ],
      "metadata": {
        "id": "vEQVZuqz6ftj"
      },
      "execution_count": null,
      "outputs": []
    },
    {
      "cell_type": "markdown",
      "source": [
        "## Convolutional Neural Network (CNN)"
      ],
      "metadata": {
        "id": "FEpzheze6i30"
      }
    },
    {
      "cell_type": "code",
      "source": [
        "from keras.layers import Activation,Conv2D,MaxPooling2D,Flatten\n",
        "model2.add(Conv2D(32,(3,3),padding='same',input_shape=x_train.shape[1:]))\n",
        "model2.add(Activation('relu'))\n",
        "model2.add(Conv2D(32,(3,3)))\n",
        "model2.add(Activation('relu'))\n",
        "model2.add(MaxPooling2D(pool_size=(2,2)))\n",
        "model2.add(Dropout(0.25))\n",
        "model2.add(Conv2D(64,(3,3), padding='same'))\n",
        "model2.add(Activation('relu'))\n",
        "model2.add(Conv2D(64,(3, 3)))\n",
        "model2.add(Activation('relu'))\n",
        "model2.add(MaxPooling2D(pool_size=(2,2)))\n",
        "model2.add(Dropout(0.25))\n",
        "model2.add(Flatten())\n",
        "model2.add(Dense(512))\n",
        "model2.add(Activation('relu'))\n",
        "model2.add(Dropout(0.5))\n",
        "model2.add(Dense(num_classes))\n",
        "model2.add(Activation('softmax'))"
      ],
      "metadata": {
        "id": "6AuN1cYP6kUz"
      },
      "execution_count": null,
      "outputs": []
    },
    {
      "cell_type": "markdown",
      "source": [
        "## Recurrent Neural Network (RNN)"
      ],
      "metadata": {
        "id": "W2Lyvgu467VI"
      }
    },
    {
      "cell_type": "code",
      "source": [
        "from keras.klayers import Embedding,LSTM\n",
        "model3.add(Embedding(20000,128))\n",
        "model3.add(LSTM(128,dropout=0.2,recurrent_dropout=0.2))\n",
        "model3.add(Dense(1,activation='sigmoid'))"
      ],
      "metadata": {
        "id": "iVPXc2bY67Ok"
      },
      "execution_count": null,
      "outputs": []
    },
    {
      "cell_type": "markdown",
      "source": [
        "# Prediction"
      ],
      "metadata": {
        "id": "DuF1LF307CkK"
      }
    },
    {
      "cell_type": "code",
      "source": [
        "model3.predict(x_test4, batch_size=32)\n",
        "model3.predict_classes(x_test4,batch_size=32)"
      ],
      "metadata": {
        "id": "dr2SPxis7DD5"
      },
      "execution_count": null,
      "outputs": []
    },
    {
      "cell_type": "markdown",
      "source": [
        "# Train and Test Sets"
      ],
      "metadata": {
        "id": "1mxM4SQr7GeE"
      }
    },
    {
      "cell_type": "code",
      "source": [
        "from sklearn.model_selection import train_test_split\n",
        "X_train5,X_test5,y_train5,y_test5 = train_test_split(X, y, test_size=0.33, random_state=42)"
      ],
      "metadata": {
        "id": "qiNfkd9w7HRU"
      },
      "execution_count": null,
      "outputs": []
    },
    {
      "cell_type": "markdown",
      "source": [
        "# Standardization/Normalization"
      ],
      "metadata": {
        "id": "H1qexAa37Ktm"
      }
    },
    {
      "cell_type": "code",
      "source": [
        "from sklearn.preprocessing import StandardScaler\n",
        "scaler = StandardScaler().fit(x_train2)\n",
        "standardized_X = scaler.transform(x_train2)\n",
        "standardized_X_test = scaler.transform(x_test2)"
      ],
      "metadata": {
        "id": "BVLxDPm07MHk"
      },
      "execution_count": null,
      "outputs": []
    },
    {
      "cell_type": "markdown",
      "source": [
        "# Inspect Model\n"
      ],
      "metadata": {
        "id": "u4yeiiXw7dLZ"
      }
    },
    {
      "cell_type": "code",
      "source": [
        "model.output_shape\n",
        "model.summary()\n",
        "model.get_config()\n",
        "model.get_weights()"
      ],
      "metadata": {
        "id": "30BFKxxX7d7a"
      },
      "execution_count": null,
      "outputs": []
    },
    {
      "cell_type": "markdown",
      "source": [
        "# Compile Model"
      ],
      "metadata": {
        "id": "9M4IReRq7nkv"
      }
    },
    {
      "cell_type": "markdown",
      "source": [
        "## MLP: Binary Classification"
      ],
      "metadata": {
        "id": "Sk3WN8zB7p9Q"
      }
    },
    {
      "cell_type": "code",
      "source": [
        "model.compile(optimizer='adam', \n",
        "              loss='binary_crossentropy', \n",
        "              metrics=['accuracy'])"
      ],
      "metadata": {
        "id": "OuTPQp0I7oGQ"
      },
      "execution_count": null,
      "outputs": []
    },
    {
      "cell_type": "markdown",
      "source": [
        "## MLP: Multi-Class Classification"
      ],
      "metadata": {
        "id": "bXUtjt8L74Xv"
      }
    },
    {
      "cell_type": "code",
      "source": [
        "model.compile(optimizer='rmsprop', \n",
        "              loss='categorical_crossentropy', \n",
        "              metrics=['accuracy'])"
      ],
      "metadata": {
        "id": "IohR5HDS75hS"
      },
      "execution_count": null,
      "outputs": []
    },
    {
      "cell_type": "markdown",
      "source": [
        "## MLP: Regression"
      ],
      "metadata": {
        "id": "ZnsuYiGd8EGk"
      }
    },
    {
      "cell_type": "code",
      "source": [
        "model.compile(optimizer='rmsprop', \n",
        "              loss='mse', \n",
        "              metrics=['mae'])"
      ],
      "metadata": {
        "id": "y2H-KUU-8Ffe"
      },
      "execution_count": null,
      "outputs": []
    },
    {
      "cell_type": "markdown",
      "source": [
        "## Recurrent Neural Network"
      ],
      "metadata": {
        "id": "eN4Qeux88Ofb"
      }
    },
    {
      "cell_type": "code",
      "source": [
        "model3.compile(loss='binary_crossentropy',\n",
        "               optimizer='adam', \n",
        "               metrics=['accuracy'])"
      ],
      "metadata": {
        "id": "l96o2Y4E8PI_"
      },
      "execution_count": null,
      "outputs": []
    },
    {
      "cell_type": "markdown",
      "source": [
        "##  Model Training"
      ],
      "metadata": {
        "id": "81ZExieT8b9r"
      }
    },
    {
      "cell_type": "code",
      "source": [
        "model3.fit(x_train4,\n",
        "           y_train4,\n",
        "           batch_size=32,\n",
        "           epochs=15,\n",
        "           verbose=1,\n",
        "           validation_data=(x_test4,y_test4))"
      ],
      "metadata": {
        "id": "Z5narGmT8clA"
      },
      "execution_count": null,
      "outputs": []
    },
    {
      "cell_type": "markdown",
      "source": [
        "# Save/ Reload Models"
      ],
      "metadata": {
        "id": "QWwPIAYW8pM-"
      }
    },
    {
      "cell_type": "code",
      "source": [
        "from keras.models import load_model\n",
        "model3.save('model_file.h5') \n",
        "my_model = load_model('model_file.h5')"
      ],
      "metadata": {
        "id": "2043mRPS8p3h"
      },
      "execution_count": null,
      "outputs": []
    },
    {
      "cell_type": "markdown",
      "source": [
        "# Model Fine-tuning"
      ],
      "metadata": {
        "id": "iTvjXn0u8zeF"
      }
    },
    {
      "cell_type": "markdown",
      "source": [
        "## Optimization Parameters"
      ],
      "metadata": {
        "id": "S-ZMDqlq81Nr"
      }
    },
    {
      "cell_type": "code",
      "source": [
        "from keras.optimizers import RMSprop\n",
        "opt = RMSprop(lr=0.0001, decay=1e-6)\n",
        "model2.compile(loss='categorical_crossentropy',\n",
        "               optimizer=opt,\n",
        "               metrics=['accuracy'])"
      ],
      "metadata": {
        "id": "WGAF5cfL8z8R"
      },
      "execution_count": null,
      "outputs": []
    },
    {
      "cell_type": "markdown",
      "source": [
        "## Early Stopping"
      ],
      "metadata": {
        "id": "lpkHD3So864u"
      }
    },
    {
      "cell_type": "code",
      "source": [
        "from keras.callbacks import EarlyStopping\n",
        "early_stopping_monitor = EarlyStopping(patience=2)\n",
        "model3.fit(x_train4,\n",
        "           y_train4,\n",
        "           batch_size=32,\n",
        "           epochs=15,\n",
        "           validation_data=(x_test4,y_test4),\n",
        "           callbacks=[early_stopping_monitor])"
      ],
      "metadata": {
        "id": "aNepwHId89yZ"
      },
      "execution_count": null,
      "outputs": []
    }
  ]
}